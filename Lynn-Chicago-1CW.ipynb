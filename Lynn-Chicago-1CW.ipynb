{
 "cells": [
  {
   "cell_type": "code",
   "execution_count": 5,
   "metadata": {},
   "outputs": [
    {
     "data": {
      "text/plain": [
       "_StoreAction(option_strings=[], dest='t9Aqpq086bS4P_h7RY-fgMeMbrrKr-D_cdrrllrO8gCuPPyY3K7V6ELW_OFMKvoI3wa4jlx0ahhlESLkb4YQsTmiWMtiZhWlwu9eMhtKWZL5OrtqRmUBu2IAQa9pXXYx', nargs=None, const=None, default=None, type=<class 'str'>, choices=None, help='Yelp Fusion API Key', metavar=None)"
      ]
     },
     "execution_count": 5,
     "metadata": {},
     "output_type": "execute_result"
    }
   ],
   "source": [
    "# Dependencies\n",
    "import csv\n",
    "import matplotlib.pyplot as plt \n",
    "import requests\n",
    "import json\n",
    "import pandas as pd \n",
    "from config import api_key\n",
    "from yelp.client import Client\n",
    "import argparse\n",
    "\n",
    "from pprint import pprint\n",
    "\n",
    "argparser = argparse.ArgumentParser(description='Example Yelp queries using yelpapi. Visit https://www.yelp.com/developers/v3/manage_app to get the necessary API keys.')\n",
    "argparser.add_argument(api_key, type=str, help='Yelp Fusion API Key')"
   ]
  },
  {
   "cell_type": "code",
   "execution_count": 6,
   "metadata": {},
   "outputs": [],
   "source": [
    "headers = {'Authorization': 'Bearer %s' % api_key}"
   ]
  },
  {
   "cell_type": "code",
   "execution_count": 9,
   "metadata": {},
   "outputs": [
    {
     "ename": "NameError",
     "evalue": "name 'YelpAPI' is not defined",
     "output_type": "error",
     "traceback": [
      "\u001b[1;31m---------------------------------------------------------------------------\u001b[0m",
      "\u001b[1;31mNameError\u001b[0m                                 Traceback (most recent call last)",
      "\u001b[1;32m<ipython-input-9-6733e4603ff5>\u001b[0m in \u001b[0;36m<module>\u001b[1;34m\u001b[0m\n\u001b[1;32m----> 1\u001b[1;33m \u001b[0myelp_api\u001b[0m \u001b[1;33m=\u001b[0m \u001b[0mYelpAPI\u001b[0m\u001b[1;33m(\u001b[0m\u001b[0mapi_key\u001b[0m\u001b[1;33m)\u001b[0m\u001b[1;33m\u001b[0m\u001b[1;33m\u001b[0m\u001b[0m\n\u001b[0m\u001b[0;32m      2\u001b[0m \u001b[1;31m#search yelp library for \"Mexican restaurants\"\u001b[0m\u001b[1;33m\u001b[0m\u001b[1;33m\u001b[0m\u001b[1;33m\u001b[0m\u001b[0m\n\u001b[0;32m      3\u001b[0m \u001b[1;33m\u001b[0m\u001b[0m\n\u001b[0;32m      4\u001b[0m \u001b[1;33m\u001b[0m\u001b[0m\n\u001b[0;32m      5\u001b[0m \u001b[0msearch_results\u001b[0m \u001b[1;33m=\u001b[0m \u001b[0myelp_api\u001b[0m\u001b[1;33m.\u001b[0m\u001b[0msearch_query\u001b[0m\u001b[1;33m(\u001b[0m\u001b[0mterm\u001b[0m\u001b[1;33m=\u001b[0m\u001b[1;34m'mexican'\u001b[0m\u001b[1;33m,\u001b[0m \u001b[0mlocation\u001b[0m\u001b[1;33m=\u001b[0m\u001b[1;34m'miami, fl'\u001b[0m\u001b[1;33m,\u001b[0m \u001b[0msort_by\u001b[0m\u001b[1;33m=\u001b[0m\u001b[1;34m'rating'\u001b[0m\u001b[1;33m,\u001b[0m \u001b[0mlimit\u001b[0m\u001b[1;33m=\u001b[0m\u001b[1;36m50\u001b[0m\u001b[1;33m)\u001b[0m\u001b[1;33m\u001b[0m\u001b[1;33m\u001b[0m\u001b[0m\n",
      "\u001b[1;31mNameError\u001b[0m: name 'YelpAPI' is not defined"
     ]
    }
   ],
   "source": [
    "yelp_api = YelpAPI(api_key)\n",
    "#search yelp library for \"Mexican restaurants\"\n",
    "\n",
    "\n",
    "search_results = yelp_api.search_query(term='mexican', location='miami, fl', sort_by='rating', limit=50)\n",
    "pprint (search_results)"
   ]
  },
  {
   "cell_type": "code",
   "execution_count": null,
   "metadata": {},
   "outputs": [],
   "source": [
    "yelp_api = YelpAPI(api_key)\n",
    "#search yelp library for Inexpensive Restaurants ($)\n",
    "search_1_results = yelp_api.search_query(term='restaurants', location='los angeles, ca', price=1)\n",
    "pprint (search_1_results['total'])\n",
    "\n",
    "#search yelp library for Less Expensive Restaurants ($$)\n",
    "search_2_results = yelp_api.search_query(term='restaurants', location='los angeles, ca', price=2)\n",
    "pprint (search_2_results['total'])\n",
    "\n",
    "#search yelp library for More Expensive Restaurants ($$$)\n",
    "search_3_results = yelp_api.search_query(term='restaurants', location='los angeles, ca', price=3)\n",
    "pprint (search_3_results['total'])\n",
    "\n",
    "#search yelp library for Expensive Restaurants ($$$$)\n",
    "search_4_results = yelp_api.search_query(term='restaurants', location='los angeles, ca', price=4)\n",
    "pprint (search_4_results['total'])"
   ]
  },
  {
   "cell_type": "code",
   "execution_count": null,
   "metadata": {},
   "outputs": [],
   "source": [
    "#printing top 5 best rated Mexican spots in LA\n",
    "print('***** 5 best rated Mexican places in Los Angeles, CA *****\\n{}\\n'.format(\"yelp_api.search_query(term='mexican', \"\n",
    "                                                                             \"location='los angeles, ca', sort_by='rating', \"\n",
    "                                                                             \"limit=5)\"))\n",
    "response = yelp_api.search_query(term='mexican', location='los angeles, ca', sort_by='rating', limit=5)\n",
    "pprint(response)\n",
    "print('\\n-------------------------------------------------------------------------\\n')"
   ]
  },
  {
   "cell_type": "code",
   "execution_count": null,
   "metadata": {},
   "outputs": [],
   "source": [
    "#restaurants supporting reservations\n",
    "print(\"***** businesses in LA supporting delivery transactions *****\\n{}\\n\".format(\"yelp_api.transaction_search_\"\n",
    "                                                                                       \"query(transaction_type=\"\n",
    "                                                                                       \"'delivery', location='los angeles, ca')\"))\n",
    "response = yelp_api.transaction_search_query(transaction_type='delivery', location='los angeles, ca')\n",
    "pprint(response)\n",
    "print('\\n-------------------------------------------------------------------------\\n')"
   ]
  },
  {
   "cell_type": "code",
   "execution_count": null,
   "metadata": {},
   "outputs": [],
   "source": []
  },
  {
   "cell_type": "code",
   "execution_count": null,
   "metadata": {},
   "outputs": [],
   "source": []
  },
  {
   "cell_type": "code",
   "execution_count": null,
   "metadata": {},
   "outputs": [],
   "source": []
  },
  {
   "cell_type": "code",
   "execution_count": null,
   "metadata": {},
   "outputs": [],
   "source": []
  },
  {
   "cell_type": "code",
   "execution_count": null,
   "metadata": {},
   "outputs": [],
   "source": []
  },
  {
   "cell_type": "code",
   "execution_count": null,
   "metadata": {},
   "outputs": [],
   "source": []
  },
  {
   "cell_type": "code",
   "execution_count": null,
   "metadata": {},
   "outputs": [],
   "source": []
  },
  {
   "cell_type": "code",
   "execution_count": null,
   "metadata": {},
   "outputs": [],
   "source": []
  },
  {
   "cell_type": "code",
   "execution_count": null,
   "metadata": {},
   "outputs": [],
   "source": []
  }
 ],
 "metadata": {
  "kernelspec": {
   "display_name": "Python 3",
   "language": "python",
   "name": "python3"
  },
  "language_info": {
   "codemirror_mode": {
    "name": "ipython",
    "version": 3
   },
   "file_extension": ".py",
   "mimetype": "text/x-python",
   "name": "python",
   "nbconvert_exporter": "python",
   "pygments_lexer": "ipython3",
   "version": "3.6.8"
  }
 },
 "nbformat": 4,
 "nbformat_minor": 2
}
