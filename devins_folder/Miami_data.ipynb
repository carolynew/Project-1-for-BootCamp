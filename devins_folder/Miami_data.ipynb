#import dependencies
import csv
import matplotlib.pyplot as plt 
import requests
import pandas as pd 
from config import api_key

