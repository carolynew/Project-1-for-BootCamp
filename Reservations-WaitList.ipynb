{
 "cells": [
  {
   "cell_type": "code",
   "execution_count": 1,
   "metadata": {},
   "outputs": [
    {
     "data": {
      "text/plain": [
       "_StoreAction(option_strings=[], dest='t9Aqpq086bS4P_h7RY-fgMeMbrrKr-D_cdrrllrO8gCuPPyY3K7V6ELW_OFMKvoI3wa4jlx0ahhlESLkb4YQsTmiWMtiZhWlwu9eMhtKWZL5OrtqRmUBu2IAQa9pXXYx', nargs=None, const=None, default=None, type=<class 'str'>, choices=None, help='Yelp Fusion API Key', metavar=None)"
      ]
     },
     "execution_count": 1,
     "metadata": {},
     "output_type": "execute_result"
    }
   ],
   "source": [
    "import csv\n",
    "import matplotlib.pyplot as plt \n",
    "import requests\n",
    "import json\n",
    "import pandas as pd \n",
    "from config import api_key\n",
    "from yelpapi import YelpAPI\n",
    "import argparse\n",
    "\n",
    "from pprint import pprint\n",
    "\n",
    "argparser = argparse.ArgumentParser(description='Example Yelp queries using yelpapi. Visit https://www.yelp.com/developers/v3/manage_app to get the necessary API keys.')\n",
    "argparser.add_argument(api_key, type=str, help='Yelp Fusion API Key')"
   ]
  },
  {
   "cell_type": "code",
   "execution_count": 2,
   "metadata": {},
   "outputs": [],
   "source": [
    "headers = {'Authorization': 'Bearer %s' % api_key}"
   ]
  },
  {
   "cell_type": "code",
   "execution_count": 3,
   "metadata": {},
   "outputs": [
    {
     "name": "stdout",
     "output_type": "stream",
     "text": [
      "500\n",
      "127\n",
      "105\n",
      "106\n"
     ]
    }
   ],
   "source": [
    "#Request to pull the number of restaurants each city that offer Reservations\n",
    "yelp_api = YelpAPI(api_key)\n",
    "\n",
    "# Reservations in restaurants in LA\n",
    "wc_la_results = yelp_api.search_query(term='restaurants', location='los angeles, ca', attributes=\"reservation\")\n",
    "pprint(wc_la_results['total'])\n",
    "\n",
    "# Reservations in restaurants in DC\n",
    "wc_dc_results = yelp_api.search_query(term='restaurants', location='washington, dc', attributes=\"reservation\")\n",
    "pprint(wc_dc_results['total'])\n",
    "\n",
    "# Reservations in restaurants in Miami\n",
    "wc_mia_results = yelp_api.search_query(term='restaurants', location='miami, fl', attributes=\"reservation\")\n",
    "pprint(wc_mia_results['total'])\n",
    "\n",
    "# Reservations in restaurants in Chicago\n",
    "wc_chi_results = yelp_api.search_query(term='restaurants', location='chicago, il', attributes=\"reservation\")\n",
    "pprint(wc_chi_results['total'])"
   ]
  },
  {
   "cell_type": "code",
   "execution_count": 4,
   "metadata": {},
   "outputs": [
    {
     "data": {
      "text/html": [
       "<div>\n",
       "<style scoped>\n",
       "    .dataframe tbody tr th:only-of-type {\n",
       "        vertical-align: middle;\n",
       "    }\n",
       "\n",
       "    .dataframe tbody tr th {\n",
       "        vertical-align: top;\n",
       "    }\n",
       "\n",
       "    .dataframe thead th {\n",
       "        text-align: right;\n",
       "    }\n",
       "</style>\n",
       "<table border=\"1\" class=\"dataframe\">\n",
       "  <thead>\n",
       "    <tr style=\"text-align: right;\">\n",
       "      <th></th>\n",
       "      <th>Los Angeles</th>\n",
       "      <th>DC</th>\n",
       "      <th>Miami</th>\n",
       "      <th>Chicago</th>\n",
       "    </tr>\n",
       "  </thead>\n",
       "  <tbody>\n",
       "    <tr>\n",
       "      <th>businesses</th>\n",
       "      <td>[{'id': 'a3jEpK3LAmrsxIg-nC2WvQ', 'alias': 'mi...</td>\n",
       "      <td>[{'id': 'CUdMdzv2aHDarw59h8VqHw', 'alias': 'no...</td>\n",
       "      <td>[{'id': 'opz-z4k-WK0KsyyR1Vwg5A', 'alias': 'wh...</td>\n",
       "      <td>[{'id': 'VPJk-SEWSWS_nGoQvM-COw', 'alias': 'pe...</td>\n",
       "    </tr>\n",
       "    <tr>\n",
       "      <th>region</th>\n",
       "      <td>{'center': {'longitude': -118.32138061523438, ...</td>\n",
       "      <td>{'center': {'longitude': -77.0306396484375, 'l...</td>\n",
       "      <td>{'center': {'longitude': -80.2880859375, 'lati...</td>\n",
       "      <td>{'center': {'longitude': -87.67776489257812, '...</td>\n",
       "    </tr>\n",
       "    <tr>\n",
       "      <th>total</th>\n",
       "      <td>500</td>\n",
       "      <td>127</td>\n",
       "      <td>105</td>\n",
       "      <td>106</td>\n",
       "    </tr>\n",
       "  </tbody>\n",
       "</table>\n",
       "</div>"
      ],
      "text/plain": [
       "                                                  Los Angeles  \\\n",
       "businesses  [{'id': 'a3jEpK3LAmrsxIg-nC2WvQ', 'alias': 'mi...   \n",
       "region      {'center': {'longitude': -118.32138061523438, ...   \n",
       "total                                                     500   \n",
       "\n",
       "                                                           DC  \\\n",
       "businesses  [{'id': 'CUdMdzv2aHDarw59h8VqHw', 'alias': 'no...   \n",
       "region      {'center': {'longitude': -77.0306396484375, 'l...   \n",
       "total                                                     127   \n",
       "\n",
       "                                                        Miami  \\\n",
       "businesses  [{'id': 'opz-z4k-WK0KsyyR1Vwg5A', 'alias': 'wh...   \n",
       "region      {'center': {'longitude': -80.2880859375, 'lati...   \n",
       "total                                                     105   \n",
       "\n",
       "                                                      Chicago  \n",
       "businesses  [{'id': 'VPJk-SEWSWS_nGoQvM-COw', 'alias': 'pe...  \n",
       "region      {'center': {'longitude': -87.67776489257812, '...  \n",
       "total                                                     106  "
      ]
     },
     "execution_count": 4,
     "metadata": {},
     "output_type": "execute_result"
    }
   ],
   "source": [
    "#Create DataFrame to hold reservation results\n",
    "reservation_dict= ({\"Los Angeles\": wc_la_results,\n",
    "                \"DC\": wc_dc_results,\n",
    "                \"Miami\": wc_mia_results,\n",
    "                \"Chicago\": wc_chi_results  \n",
    "})\n",
    "\n",
    "reservation_data = pd.DataFrame(reservation_dict)\n",
    "reservation_data"
   ]
  },
  {
   "cell_type": "code",
   "execution_count": 5,
   "metadata": {},
   "outputs": [
    {
     "data": {
      "text/html": [
       "<div>\n",
       "<style scoped>\n",
       "    .dataframe tbody tr th:only-of-type {\n",
       "        vertical-align: middle;\n",
       "    }\n",
       "\n",
       "    .dataframe tbody tr th {\n",
       "        vertical-align: top;\n",
       "    }\n",
       "\n",
       "    .dataframe thead th {\n",
       "        text-align: right;\n",
       "    }\n",
       "</style>\n",
       "<table border=\"1\" class=\"dataframe\">\n",
       "  <thead>\n",
       "    <tr style=\"text-align: right;\">\n",
       "      <th></th>\n",
       "      <th>Los Angeles</th>\n",
       "      <th>DC</th>\n",
       "      <th>Miami</th>\n",
       "      <th>Chicago</th>\n",
       "    </tr>\n",
       "  </thead>\n",
       "  <tbody>\n",
       "    <tr>\n",
       "      <th>total</th>\n",
       "      <td>500</td>\n",
       "      <td>127</td>\n",
       "      <td>105</td>\n",
       "      <td>106</td>\n",
       "    </tr>\n",
       "  </tbody>\n",
       "</table>\n",
       "</div>"
      ],
      "text/plain": [
       "      Los Angeles   DC Miami Chicago\n",
       "total         500  127   105     106"
      ]
     },
     "execution_count": 5,
     "metadata": {},
     "output_type": "execute_result"
    }
   ],
   "source": [
    "# Delete extraneous columns\n",
    "reservation_data.drop(['businesses', 'region'], inplace=True)\n",
    "reservation_data.head()"
   ]
  },
  {
   "cell_type": "code",
   "execution_count": 6,
   "metadata": {},
   "outputs": [
    {
     "name": "stdout",
     "output_type": "stream",
     "text": [
      "87\n",
      "38\n",
      "13\n",
      "69\n"
     ]
    }
   ],
   "source": [
    "#Request to pull the number of restaurants in each city that offer Wait List Availability\n",
    "yelp_api = YelpAPI(api_key)\n",
    "\n",
    "# Reservations and Wait List Availability in restaurants in LA\n",
    "wc_la_results = yelp_api.search_query(term='restaurants', location='los angeles, ca', attributes=\"waitlist_reservation\")\n",
    "pprint(wc_la_results['total'])\n",
    "\n",
    "# Reservations and Wait List Availability in restaurants in DC\n",
    "wc_dc_results = yelp_api.search_query(term='restaurants', location='washington, dc', attributes=\"waitlist_reservation\")\n",
    "pprint(wc_dc_results['total'])\n",
    "\n",
    "# Reservations and Wait List Availability in restaurants in Miami\n",
    "wc_mia_results = yelp_api.search_query(term='restaurants', location='miami, fl', attributes=\"waitlist_reservation\")\n",
    "pprint(wc_mia_results['total'])\n",
    "\n",
    "# Reservations and Wait List Availability in restaurants in Chicago\n",
    "wc_chi_results = yelp_api.search_query(term='restaurants', location='chicago, il', attributes=\"waitlist_reservation\")\n",
    "pprint(wc_chi_results['total'])\n"
   ]
  },
  {
   "cell_type": "code",
   "execution_count": 7,
   "metadata": {},
   "outputs": [
    {
     "data": {
      "text/html": [
       "<div>\n",
       "<style scoped>\n",
       "    .dataframe tbody tr th:only-of-type {\n",
       "        vertical-align: middle;\n",
       "    }\n",
       "\n",
       "    .dataframe tbody tr th {\n",
       "        vertical-align: top;\n",
       "    }\n",
       "\n",
       "    .dataframe thead th {\n",
       "        text-align: right;\n",
       "    }\n",
       "</style>\n",
       "<table border=\"1\" class=\"dataframe\">\n",
       "  <thead>\n",
       "    <tr style=\"text-align: right;\">\n",
       "      <th></th>\n",
       "      <th>Los Angeles</th>\n",
       "      <th>DC</th>\n",
       "      <th>Miami</th>\n",
       "      <th>Chicago</th>\n",
       "    </tr>\n",
       "  </thead>\n",
       "  <tbody>\n",
       "    <tr>\n",
       "      <th>businesses</th>\n",
       "      <td>[{'id': 'kdTFcDSl9vAR-btEm1Q2uw', 'alias': 'ba...</td>\n",
       "      <td>[{'id': 'ZQmeDA4ZkM6F1dr2HNVWXA', 'alias': 'ca...</td>\n",
       "      <td>[{'id': '1h8-r9cLeXxW99HhlRUnlA', 'alias': 'cv...</td>\n",
       "      <td>[{'id': 'DXwSYgiXqIVNdO9dazel6w', 'alias': 'pe...</td>\n",
       "    </tr>\n",
       "    <tr>\n",
       "      <th>region</th>\n",
       "      <td>{'center': {'longitude': -118.32138061523438, ...</td>\n",
       "      <td>{'center': {'longitude': -77.0306396484375, 'l...</td>\n",
       "      <td>{'center': {'longitude': -80.2880859375, 'lati...</td>\n",
       "      <td>{'center': {'longitude': -87.67776489257812, '...</td>\n",
       "    </tr>\n",
       "    <tr>\n",
       "      <th>total</th>\n",
       "      <td>87</td>\n",
       "      <td>38</td>\n",
       "      <td>13</td>\n",
       "      <td>69</td>\n",
       "    </tr>\n",
       "  </tbody>\n",
       "</table>\n",
       "</div>"
      ],
      "text/plain": [
       "                                                  Los Angeles  \\\n",
       "businesses  [{'id': 'kdTFcDSl9vAR-btEm1Q2uw', 'alias': 'ba...   \n",
       "region      {'center': {'longitude': -118.32138061523438, ...   \n",
       "total                                                      87   \n",
       "\n",
       "                                                           DC  \\\n",
       "businesses  [{'id': 'ZQmeDA4ZkM6F1dr2HNVWXA', 'alias': 'ca...   \n",
       "region      {'center': {'longitude': -77.0306396484375, 'l...   \n",
       "total                                                      38   \n",
       "\n",
       "                                                        Miami  \\\n",
       "businesses  [{'id': '1h8-r9cLeXxW99HhlRUnlA', 'alias': 'cv...   \n",
       "region      {'center': {'longitude': -80.2880859375, 'lati...   \n",
       "total                                                      13   \n",
       "\n",
       "                                                      Chicago  \n",
       "businesses  [{'id': 'DXwSYgiXqIVNdO9dazel6w', 'alias': 'pe...  \n",
       "region      {'center': {'longitude': -87.67776489257812, '...  \n",
       "total                                                      69  "
      ]
     },
     "execution_count": 7,
     "metadata": {},
     "output_type": "execute_result"
    }
   ],
   "source": [
    "#Create DataFrame to hold results\n",
    "waitlist_dict= ({\"Los Angeles\": wc_la_results,\n",
    "                \"DC\": wc_dc_results,\n",
    "                \"Miami\": wc_mia_results,\n",
    "                \"Chicago\": wc_chi_results  \n",
    "})\n",
    "\n",
    "waitlist_data = pd.DataFrame(waitlist_dict)\n",
    "waitlist_data"
   ]
  },
  {
   "cell_type": "code",
   "execution_count": 8,
   "metadata": {},
   "outputs": [
    {
     "data": {
      "text/html": [
       "<div>\n",
       "<style scoped>\n",
       "    .dataframe tbody tr th:only-of-type {\n",
       "        vertical-align: middle;\n",
       "    }\n",
       "\n",
       "    .dataframe tbody tr th {\n",
       "        vertical-align: top;\n",
       "    }\n",
       "\n",
       "    .dataframe thead th {\n",
       "        text-align: right;\n",
       "    }\n",
       "</style>\n",
       "<table border=\"1\" class=\"dataframe\">\n",
       "  <thead>\n",
       "    <tr style=\"text-align: right;\">\n",
       "      <th></th>\n",
       "      <th>Los Angeles</th>\n",
       "      <th>DC</th>\n",
       "      <th>Miami</th>\n",
       "      <th>Chicago</th>\n",
       "    </tr>\n",
       "  </thead>\n",
       "  <tbody>\n",
       "    <tr>\n",
       "      <th>total</th>\n",
       "      <td>87</td>\n",
       "      <td>38</td>\n",
       "      <td>13</td>\n",
       "      <td>69</td>\n",
       "    </tr>\n",
       "  </tbody>\n",
       "</table>\n",
       "</div>"
      ],
      "text/plain": [
       "      Los Angeles  DC Miami Chicago\n",
       "total          87  38    13      69"
      ]
     },
     "execution_count": 8,
     "metadata": {},
     "output_type": "execute_result"
    }
   ],
   "source": [
    "# Drop businesses & region from dataframe\n",
    "waitlist_data.drop(['businesses', 'region'], inplace=True)\n",
    "waitlist_data"
   ]
  },
  {
   "cell_type": "code",
   "execution_count": 9,
   "metadata": {
    "scrolled": true
   },
   "outputs": [
    {
     "name": "stderr",
     "output_type": "stream",
     "text": [
      "C:\\Users\\leite\\Anaconda3\\envs\\PythonData\\lib\\site-packages\\ipykernel_launcher.py:5: MatplotlibDeprecationWarning: Non-1D inputs to pie() are currently squeeze()d, but this behavior is deprecated since 3.1 and will be removed in 3.3; pass a 1D array instead.\n",
      "  \"\"\"\n"
     ]
    },
    {
     "data": {
      "image/png": "[encoded data removed]",
      "text/plain": [
       "<Figure size 432x288 with 1 Axes>"
      ]
     },
     "metadata": {},
     "output_type": "display_data"
    },
    {
     "data": {
      "text/plain": [
       "<Figure size 432x288 with 0 Axes>"
      ]
     },
     "metadata": {},
     "output_type": "display_data"
    }
   ],
   "source": [
    "# Labels for the sections of our pie chart\n",
    "labels = [\"Los Angeles\", \"DC\", \"Miami\", \"Chicago\"]\n",
    "colors = [\"yellow\", \"skyblue\", \"lightgreen\", \"pink\"]\n",
    "# The values of each section of the pie chart\n",
    "plt.pie(reservation_data, labels=labels,colors=colors, autopct=\"%1.1f%%\", shadow=True, startangle=140)\n",
    "\n",
    "# The colors of each section of the pie chart\n",
    "plt.axis(\"equal\")\n",
    "plt.show()\n",
    "\n",
    "plt.savefig(\"ReservationPie\")"
   ]
  },
  {
   "cell_type": "code",
   "execution_count": 10,
   "metadata": {},
   "outputs": [
    {
     "name": "stderr",
     "output_type": "stream",
     "text": [
      "C:\\Users\\leite\\Anaconda3\\envs\\PythonData\\lib\\site-packages\\ipykernel_launcher.py:5: MatplotlibDeprecationWarning: Non-1D inputs to pie() are currently squeeze()d, but this behavior is deprecated since 3.1 and will be removed in 3.3; pass a 1D array instead.\n",
      "  \"\"\"\n"
     ]
    },
    {
     "data": {
      "image/png": "[encoded data removed]",
      "text/plain": [
       "<Figure size 432x288 with 1 Axes>"
      ]
     },
     "metadata": {},
     "output_type": "display_data"
    },
    {
     "data": {
      "text/plain": [
       "<Figure size 432x288 with 0 Axes>"
      ]
     },
     "metadata": {},
     "output_type": "display_data"
    }
   ],
   "source": [
    "# Labels for the sections of our pie chart\n",
    "labels = [\"Los Angeles\", \"DC\", \"Miami\", \"Chicago\"]\n",
    "colors = [\"bisque\", \"mediumspringgreen\", \"dodgerblue\", \"lightcoral\"]\n",
    "# The values of each section of the pie chart\n",
    "plt.pie(waitlist_data, labels=labels,colors=colors, autopct=\"%1.1f%%\", shadow=True, startangle=140)\n",
    "\n",
    "# The colors of each section of the pie chart\n",
    "plt.axis(\"equal\")\n",
    "plt.show()\n",
    "\n",
    "plt.savefig(\"WaitListPie\")"
   ]
  },
  {
   "cell_type": "code",
   "execution_count": null,
   "metadata": {},
   "outputs": [],
   "source": []
  }
 ],
 "metadata": {
  "kernelspec": {
   "display_name": "Python 3",
   "language": "python",
   "name": "python3"
  },
  "language_info": {
   "codemirror_mode": {
    "name": "ipython",
    "version": 3
   },
   "file_extension": ".py",
   "mimetype": "text/x-python",
   "name": "python",
   "nbconvert_exporter": "python",
   "pygments_lexer": "ipython3",
   "version": "3.6.8"
  }
 },
 "nbformat": 4,
 "nbformat_minor": 2
}
