{
 "cells": [
  {
   "cell_type": "code",
   "execution_count": 13,
   "metadata": {},
   "outputs": [
    {
     "data": {
      "text/plain": [
       "_StoreAction(option_strings=[], dest='t9Aqpq086bS4P_h7RY-fgMeMbrrKr-D_cdrrllrO8gCuPPyY3K7V6ELW_OFMKvoI3wa4jlx0ahhlESLkb4YQsTmiWMtiZhWlwu9eMhtKWZL5OrtqRmUBu2IAQa9pXXYx', nargs=None, const=None, default=None, type=<class 'str'>, choices=None, help='Yelp Fusion API Key', metavar=None)"
      ]
     },
     "execution_count": 13,
     "metadata": {},
     "output_type": "execute_result"
    }
   ],
   "source": [
    "import csv\n",
    "import matplotlib.pyplot as plt\n",
    "import requests\n",
    "import json\n",
    "import pandas as pd\n",
    "from config import api_key\n",
    "import argparse\n",
    "from pprint import pprint\n",
    "from yelpapi import YelpAPI\n",
    "yelp_api = YelpAPI(api_key)\n",
    "argparser = argparse.ArgumentParser(description='Example Yelp queries using yelpapi. Visit https://www.yelp.com/developers/v3/manage_app to get the necessary API keys.')\n",
    "argparser.add_argument(api_key, type=str, help='Yelp Fusion API Key')"
   ]
  },
  {
   "cell_type": "code",
   "execution_count": 14,
   "metadata": {},
   "outputs": [
    {
     "name": "stdout",
     "output_type": "stream",
     "text": [
      "11300\n",
      "9200\n",
      "4300\n",
      "8500\n"
     ]
    }
   ],
   "source": [
    "# Determine total number of restaurants in four cities that subscribe to YELP...\n",
    "# pprint(response)\n",
    "\n",
    "los_angeles_data = yelp_api.search_query(location='los angeles, ca', attributes='restaurant')\n",
    "washington_dc_data = yelp_api.search_query(location='washington, dc', attributes='restaurant')\n",
    "miami_data = yelp_api.search_query(location='miami, fl', attributes='restaurant')\n",
    "chicago_data = yelp_api.search_query(location='chicago, il', attributes='restaurant')\n",
    "\n",
    "print(los_angeles_data['total'])\n",
    "print(washington_dc_data['total'])\n",
    "print(miami_data['total'])\n",
    "print(chicago_data['total'])\n"
   ]
  },
  {
   "cell_type": "code",
   "execution_count": 26,
   "metadata": {},
   "outputs": [
    {
     "data": {
      "text/html": [
       "<div>\n",
       "<style scoped>\n",
       "    .dataframe tbody tr th:only-of-type {\n",
       "        vertical-align: middle;\n",
       "    }\n",
       "\n",
       "    .dataframe tbody tr th {\n",
       "        vertical-align: top;\n",
       "    }\n",
       "\n",
       "    .dataframe thead th {\n",
       "        text-align: right;\n",
       "    }\n",
       "</style>\n",
       "<table border=\"1\" class=\"dataframe\">\n",
       "  <thead>\n",
       "    <tr style=\"text-align: right;\">\n",
       "      <th></th>\n",
       "      <th>City</th>\n",
       "      <th>Total Restaurants</th>\n",
       "    </tr>\n",
       "  </thead>\n",
       "  <tbody>\n",
       "    <tr>\n",
       "      <th>0</th>\n",
       "      <td>LA</td>\n",
       "      <td>11300</td>\n",
       "    </tr>\n",
       "    <tr>\n",
       "      <th>1</th>\n",
       "      <td>DC</td>\n",
       "      <td>9200</td>\n",
       "    </tr>\n",
       "    <tr>\n",
       "      <th>2</th>\n",
       "      <td>Mia</td>\n",
       "      <td>4300</td>\n",
       "    </tr>\n",
       "    <tr>\n",
       "      <th>3</th>\n",
       "      <td>Chi</td>\n",
       "      <td>8500</td>\n",
       "    </tr>\n",
       "  </tbody>\n",
       "</table>\n",
       "</div>"
      ],
      "text/plain": [
       "  City  Total Restaurants\n",
       "0   LA              11300\n",
       "1   DC               9200\n",
       "2  Mia               4300\n",
       "3  Chi               8500"
      ]
     },
     "execution_count": 26,
     "metadata": {},
     "output_type": "execute_result"
    }
   ],
   "source": [
    "# Create dataframe of total restaurants\n",
    "city_restaurant_dict= ({\"LA\": los_angeles_data['total'],\n",
    "                        \"DC\": washington_dc_data['total'],\n",
    "                        \"Mia\": miami_data['total'],\n",
    "                        \"Chi\": chicago_data['total']})\n",
    "\n",
    "city_restaurant_dict = pd.DataFrame(list(city_restaurant_dict.items()), columns = ['City', 'Total Restaurants'])\n",
    "city_restaurant_dict\n",
    "\n",
    "city_restaurant_dict"
   ]
  },
  {
   "cell_type": "code",
   "execution_count": 16,
   "metadata": {},
   "outputs": [
    {
     "name": "stdout",
     "output_type": "stream",
     "text": [
      "501\n",
      "127\n",
      "105\n",
      "104\n"
     ]
    }
   ],
   "source": [
    "# Determine total number of restaurants in four cities that subscribe to YELP Reservation Option\n",
    "# pprint response\n",
    "\n",
    "#Request to pull the number of restaurants each city that offer Reservations\n",
    "yelp_api = YelpAPI(api_key)\n",
    "\n",
    "# Reservations in restaurants in LA\n",
    "res_la_results = yelp_api.search_query(term='restaurants', location='los angeles, ca', attributes=\"reservation\")\n",
    "pprint(res_la_results['total'])\n",
    "\n",
    "# Reservations in restaurants in DC\n",
    "res_dc_results = yelp_api.search_query(term='restaurants', location='washington, dc', attributes=\"reservation\")\n",
    "pprint(res_dc_results['total'])\n",
    "\n",
    "# Reservations in restaurants in Miami\n",
    "res_mia_results = yelp_api.search_query(term='restaurants', location='miami, fl', attributes=\"reservation\")\n",
    "pprint(res_mia_results['total'])\n",
    "\n",
    "# Reservations in restaurants in Chicago\n",
    "res_chi_results = yelp_api.search_query(term='restaurants', location='chicago, il', attributes=\"reservation\")\n",
    "pprint(res_chi_results['total'])"
   ]
  },
  {
   "cell_type": "code",
   "execution_count": 17,
   "metadata": {},
   "outputs": [
    {
     "data": {
      "text/html": [
       "<div>\n",
       "<style scoped>\n",
       "    .dataframe tbody tr th:only-of-type {\n",
       "        vertical-align: middle;\n",
       "    }\n",
       "\n",
       "    .dataframe tbody tr th {\n",
       "        vertical-align: top;\n",
       "    }\n",
       "\n",
       "    .dataframe thead th {\n",
       "        text-align: right;\n",
       "    }\n",
       "</style>\n",
       "<table border=\"1\" class=\"dataframe\">\n",
       "  <thead>\n",
       "    <tr style=\"text-align: right;\">\n",
       "      <th></th>\n",
       "      <th>LA</th>\n",
       "      <th>DC</th>\n",
       "      <th>Mia</th>\n",
       "      <th>Chi</th>\n",
       "    </tr>\n",
       "  </thead>\n",
       "  <tbody>\n",
       "    <tr>\n",
       "      <th>total</th>\n",
       "      <td>501</td>\n",
       "      <td>127</td>\n",
       "      <td>105</td>\n",
       "      <td>104</td>\n",
       "    </tr>\n",
       "  </tbody>\n",
       "</table>\n",
       "</div>"
      ],
      "text/plain": [
       "        LA   DC  Mia  Chi\n",
       "total  501  127  105  104"
      ]
     },
     "execution_count": 17,
     "metadata": {},
     "output_type": "execute_result"
    }
   ],
   "source": [
    "# Create dataframe of restaurants that subscribe to the YELP Reservation Option...\n",
    "\n",
    "reservation_dict= ({\"LA\": res_la_results,\n",
    "                \"DC\": res_dc_results,\n",
    "                \"Mia\": res_mia_results,\n",
    "                \"Chi\": res_chi_results})\n",
    "\n",
    "reservation_data = pd.DataFrame(reservation_dict)\n",
    "reservation_data.drop(['businesses', 'region'], inplace=True)\n",
    "\n",
    "reservation_data.head()"
   ]
  },
  {
   "cell_type": "code",
   "execution_count": 25,
   "metadata": {},
   "outputs": [
    {
     "data": {
      "text/html": [
       "<div>\n",
       "<style scoped>\n",
       "    .dataframe tbody tr th:only-of-type {\n",
       "        vertical-align: middle;\n",
       "    }\n",
       "\n",
       "    .dataframe tbody tr th {\n",
       "        vertical-align: top;\n",
       "    }\n",
       "\n",
       "    .dataframe thead th {\n",
       "        text-align: right;\n",
       "    }\n",
       "</style>\n",
       "<table border=\"1\" class=\"dataframe\">\n",
       "  <thead>\n",
       "    <tr style=\"text-align: right;\">\n",
       "      <th></th>\n",
       "      <th>City</th>\n",
       "      <th>Total Reservations</th>\n",
       "    </tr>\n",
       "  </thead>\n",
       "  <tbody>\n",
       "    <tr>\n",
       "      <th>0</th>\n",
       "      <td>LA</td>\n",
       "      <td>501</td>\n",
       "    </tr>\n",
       "    <tr>\n",
       "      <th>1</th>\n",
       "      <td>DC</td>\n",
       "      <td>127</td>\n",
       "    </tr>\n",
       "    <tr>\n",
       "      <th>2</th>\n",
       "      <td>Mia</td>\n",
       "      <td>105</td>\n",
       "    </tr>\n",
       "    <tr>\n",
       "      <th>3</th>\n",
       "      <td>Chi</td>\n",
       "      <td>104</td>\n",
       "    </tr>\n",
       "  </tbody>\n",
       "</table>\n",
       "</div>"
      ],
      "text/plain": [
       "  City  Total Reservations\n",
       "0   LA                 501\n",
       "1   DC                 127\n",
       "2  Mia                 105\n",
       "3  Chi                 104"
      ]
     },
     "execution_count": 25,
     "metadata": {},
     "output_type": "execute_result"
    }
   ],
   "source": [
    "# Create dataframe of restaurants that subscribe to the YELP Reservation Option...\n",
    "reservation_dict = ({\"LA\": res_la_results['total'],\n",
    "                  \"DC\": res_dc_results['total'],\n",
    "                    \"Mia\": res_mia_results['total'],\n",
    "                    \"Chi\": res_chi_results['total']})\n",
    "\n",
    "reservation_dict = pd.DataFrame(list(reservation_dict.items()), columns = ['City', 'Total Reservations'])\n",
    "reservation_dict"
   ]
  },
  {
   "cell_type": "code",
   "execution_count": 19,
   "metadata": {},
   "outputs": [
    {
     "name": "stdout",
     "output_type": "stream",
     "text": [
      "87\n",
      "38\n",
      "13\n",
      "70\n"
     ]
    }
   ],
   "source": [
    "# Determine total number of restaurants in four cities that subscribe to YELP Wait List Option\n",
    "yelp_api = YelpAPI(api_key)\n",
    "\n",
    "# Reservations and Wait List Availability in restaurants in LA\n",
    "wl_la_results = yelp_api.search_query(term='restaurants', location='los angeles, ca', attributes=\"waitlist_reservation\")\n",
    "pprint(wl_la_results['total'])\n",
    "\n",
    "# Reservations and Wait List Availability in restaurants in DC\n",
    "wl_dc_results = yelp_api.search_query(term='restaurants', location='washington, dc', attributes=\"waitlist_reservation\")\n",
    "pprint(wl_dc_results['total'])\n",
    "\n",
    "# Reservations and Wait List Availability in restaurants in Miami\n",
    "wl_mia_results = yelp_api.search_query(term='restaurants', location='miami, fl', attributes=\"waitlist_reservation\")\n",
    "pprint(wl_mia_results['total'])\n",
    "\n",
    "# Reservations and Wait List Availability in restaurants in Chicago\n",
    "wl_chi_results = yelp_api.search_query(term='restaurants', location='chicago, il', attributes=\"waitlist_reservation\")\n",
    "pprint(wl_chi_results['total'])\n"
   ]
  },
  {
   "cell_type": "code",
   "execution_count": 20,
   "metadata": {},
   "outputs": [
    {
     "data": {
      "text/html": [
       "<div>\n",
       "<style scoped>\n",
       "    .dataframe tbody tr th:only-of-type {\n",
       "        vertical-align: middle;\n",
       "    }\n",
       "\n",
       "    .dataframe tbody tr th {\n",
       "        vertical-align: top;\n",
       "    }\n",
       "\n",
       "    .dataframe thead th {\n",
       "        text-align: right;\n",
       "    }\n",
       "</style>\n",
       "<table border=\"1\" class=\"dataframe\">\n",
       "  <thead>\n",
       "    <tr style=\"text-align: right;\">\n",
       "      <th></th>\n",
       "      <th>LA</th>\n",
       "      <th>DC</th>\n",
       "      <th>Mia</th>\n",
       "      <th>Chi</th>\n",
       "    </tr>\n",
       "  </thead>\n",
       "  <tbody>\n",
       "    <tr>\n",
       "      <th>total</th>\n",
       "      <td>87</td>\n",
       "      <td>38</td>\n",
       "      <td>13</td>\n",
       "      <td>70</td>\n",
       "    </tr>\n",
       "  </tbody>\n",
       "</table>\n",
       "</div>"
      ],
      "text/plain": [
       "       LA  DC Mia Chi\n",
       "total  87  38  13  70"
      ]
     },
     "execution_count": 20,
     "metadata": {},
     "output_type": "execute_result"
    }
   ],
   "source": [
    "# Create dataframe of restaurants that subscribe to the YELP Wait List Option...\n",
    "waitlist_dict= ({\"LA\": wl_la_results,\n",
    "                \"DC\": wl_dc_results,\n",
    "                \"Mia\": wl_mia_results,\n",
    "                \"Chi\": wl_chi_results})\n",
    "\n",
    "waitlist_data = pd.DataFrame(waitlist_dict)\n",
    "waitlist_data.drop(['businesses','region'], inplace=True)\n",
    "waitlist_data\n"
   ]
  },
  {
   "cell_type": "code",
   "execution_count": 24,
   "metadata": {},
   "outputs": [
    {
     "data": {
      "text/html": [
       "<div>\n",
       "<style scoped>\n",
       "    .dataframe tbody tr th:only-of-type {\n",
       "        vertical-align: middle;\n",
       "    }\n",
       "\n",
       "    .dataframe tbody tr th {\n",
       "        vertical-align: top;\n",
       "    }\n",
       "\n",
       "    .dataframe thead th {\n",
       "        text-align: right;\n",
       "    }\n",
       "</style>\n",
       "<table border=\"1\" class=\"dataframe\">\n",
       "  <thead>\n",
       "    <tr style=\"text-align: right;\">\n",
       "      <th></th>\n",
       "      <th>City</th>\n",
       "      <th>Total Wait List</th>\n",
       "    </tr>\n",
       "  </thead>\n",
       "  <tbody>\n",
       "    <tr>\n",
       "      <th>0</th>\n",
       "      <td>LA</td>\n",
       "      <td>87</td>\n",
       "    </tr>\n",
       "    <tr>\n",
       "      <th>1</th>\n",
       "      <td>DC</td>\n",
       "      <td>38</td>\n",
       "    </tr>\n",
       "    <tr>\n",
       "      <th>2</th>\n",
       "      <td>Mia</td>\n",
       "      <td>13</td>\n",
       "    </tr>\n",
       "    <tr>\n",
       "      <th>3</th>\n",
       "      <td>Chi</td>\n",
       "      <td>70</td>\n",
       "    </tr>\n",
       "  </tbody>\n",
       "</table>\n",
       "</div>"
      ],
      "text/plain": [
       "  City  Total Wait List\n",
       "0   LA               87\n",
       "1   DC               38\n",
       "2  Mia               13\n",
       "3  Chi               70"
      ]
     },
     "execution_count": 24,
     "metadata": {},
     "output_type": "execute_result"
    }
   ],
   "source": [
    "# Create dataframe of restaurants that subscribe to the YELP Wait List Option...\n",
    "waitlist_dict= ({\"LA\": wl_la_results['total'],\n",
    "                \"DC\": wl_dc_results['total'],\n",
    "                \"Mia\": wl_mia_results['total'],\n",
    "                \"Chi\": wl_chi_results['total']})\n",
    "\n",
    "waitlist_data= pd.DataFrame(list(waitlist_dict.items()), columns = ['City', 'Total Wait List'])\n",
    "waitlist_data"
   ]
  },
  {
   "cell_type": "code",
   "execution_count": null,
   "metadata": {},
   "outputs": [],
   "source": []
  },
  {
   "cell_type": "code",
   "execution_count": null,
   "metadata": {},
   "outputs": [],
   "source": []
  }
 ],
 "metadata": {
  "kernelspec": {
   "display_name": "Python 3",
   "language": "python",
   "name": "python3"
  },
  "language_info": {
   "codemirror_mode": {
    "name": "ipython",
    "version": 3
   },
   "file_extension": ".py",
   "mimetype": "text/x-python",
   "name": "python",
   "nbconvert_exporter": "python",
   "pygments_lexer": "ipython3",
   "version": "3.6.8"
  }
 },
 "nbformat": 4,
 "nbformat_minor": 2
}
