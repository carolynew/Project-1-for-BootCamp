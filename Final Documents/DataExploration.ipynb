{
 "cells": [
  {
   "cell_type": "markdown",
   "metadata": {},
   "source": [
    "### Describe the exploration and cleanup process\n",
    "The YelpAPI has a ton of data, when pulling into a dataframe - cleanup is a must. We had to remove columns so it would be easier to read and plot."
   ]
  },
  {
   "cell_type": "markdown",
   "metadata": {},
   "source": [
    "### Installing packages\n",
    "We had to do a PIP Install of the Yelp Library.\n",
    "\n",
    "Authentication errors from the Yelp Client."
   ]
  },
  {
   "cell_type": "markdown",
   "metadata": {},
   "source": [
    "### Discuss any problems that arose after exploring the data, and how you resolved them\n",
    "Inconsistencies with Yelp “aliases” and “categories”. Most restaurants had two different categories. For example, a Mexican restaurant also had an \"American\" category. \n",
    "\n",
    "Limitations on the data. The YelpAPI only allowed us to pull 1,000 records at a time. \n",
    "\n",
    "Our API Key expired every 24 hours so we had to keep updating the config files. \n",
    "\n",
    "We ran into a dataset that had very few records so it was unusable. It’s certainly possible to come across incorrect information for a restaurant using that library.  "
   ]
  }
 ],
 "metadata": {
  "kernelspec": {
   "display_name": "Python 3",
   "language": "python",
   "name": "python3"
  },
  "language_info": {
   "codemirror_mode": {
    "name": "ipython",
    "version": 3
   },
   "file_extension": ".py",
   "mimetype": "text/x-python",
   "name": "python",
   "nbconvert_exporter": "python",
   "pygments_lexer": "ipython3",
   "version": "3.6.8"
  }
 },
 "nbformat": 4,
 "nbformat_minor": 2
}
