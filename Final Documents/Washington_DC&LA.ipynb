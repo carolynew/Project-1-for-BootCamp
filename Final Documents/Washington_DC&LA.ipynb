{
 "cells": [
  {
   "cell_type": "code",
   "execution_count": 1,
   "metadata": {},
   "outputs": [
    {
     "name": "stdout",
     "output_type": "stream",
     "text": [
      "Requirement already satisfied: yelpapi in /anaconda3/envs/PythonData/lib/python3.6/site-packages (2.4.0)\n",
      "Requirement already satisfied: requests in /anaconda3/envs/PythonData/lib/python3.6/site-packages (from yelpapi) (2.22.0)\n",
      "Requirement already satisfied: chardet<3.1.0,>=3.0.2 in /anaconda3/envs/PythonData/lib/python3.6/site-packages (from requests->yelpapi) (3.0.4)\n",
      "Requirement already satisfied: urllib3!=1.25.0,!=1.25.1,<1.26,>=1.21.1 in /anaconda3/envs/PythonData/lib/python3.6/site-packages (from requests->yelpapi) (1.24.2)\n",
      "Requirement already satisfied: certifi>=2017.4.17 in /anaconda3/envs/PythonData/lib/python3.6/site-packages (from requests->yelpapi) (2019.6.16)\n",
      "Requirement already satisfied: idna<2.9,>=2.5 in /anaconda3/envs/PythonData/lib/python3.6/site-packages (from requests->yelpapi) (2.8)\n",
      "Note: you may need to restart the kernel to use updated packages.\n"
     ]
    }
   ],
   "source": [
    "pip install yelpapi"
   ]
  },
  {
   "cell_type": "code",
   "execution_count": 2,
   "metadata": {},
   "outputs": [
    {
     "data": {
      "text/plain": [
       "_StoreAction(option_strings=[], dest='d1rvGhfWij6SncPbQMlX9MtoaJQQLCqJmRsY8LhWe-xYgIP3lTUMMgjNNOqz-hWgtoNzxMAH_BPDZnqSOYinUSKm2ZdANU7CVOBwKrCDtEPVSawcoL-2SkQYSYFqXXYx', nargs=None, const=None, default=None, type=<class 'str'>, choices=None, help='Yelp Fusion API Key', metavar=None)"
      ]
     },
     "execution_count": 2,
     "metadata": {},
     "output_type": "execute_result"
    }
   ],
   "source": [
    "import csv\n",
    "import matplotlib.pyplot as plt \n",
    "import requests\n",
    "import json\n",
    "import pandas as pd \n",
    "from config import api_key\n",
    "from yelpapi import YelpAPI\n",
    "import argparse\n",
    "import numpy as np\n",
    "\n",
    "from pprint import pprint\n",
    "\n",
    "argparser = argparse.ArgumentParser(description='Example Yelp queries using yelpapi. Visit https://www.yelp.com/developers/v3/manage_app to get the necessary API keys.')\n",
    "argparser.add_argument(api_key, type=str, help='Yelp Fusion API Key')"
   ]
  },
  {
   "cell_type": "code",
   "execution_count": 3,
   "metadata": {},
   "outputs": [],
   "source": [
    "headers = {'Authorization': 'Bearer %s' % api_key}"
   ]
  },
  {
   "cell_type": "code",
   "execution_count": 4,
   "metadata": {},
   "outputs": [
    {
     "name": "stdout",
     "output_type": "stream",
     "text": [
      "****** 5 Best Rated Cuisines in Washington, DC ******\n",
      "\n",
      "1400\n",
      "1100\n",
      "456\n",
      "361\n",
      "233\n"
     ]
    }
   ],
   "source": [
    "yelp_api = YelpAPI(api_key)\n",
    "#printing top 5 best rated cuisines spots in Washington, DC\n",
    "print(\"****** 5 Best Rated Cuisines in Washington, DC ******\\n\")\n",
    "\n",
    "italian_results = yelp_api.search_query(term='italian', location='washington, dc', attributes='restaurant')\n",
    "pprint(italian_results['total'])\n",
    "\n",
    "mexican_results = yelp_api.search_query(term='mexican', location='washington, dc', attributes='restaurant')\n",
    "pprint(mexican_results['total'])\n",
    "\n",
    "japanese_results = yelp_api.search_query(term='japanese', location='washington, dc', attributes='restaurant')\n",
    "pprint(japanese_results['total'])\n",
    "\n",
    "greek_results = yelp_api.search_query(term='greek', location='washington, dc', attributes='restaurant')\n",
    "pprint(greek_results['total'])\n",
    "\n",
    "indian_results = yelp_api.search_query(term='indian', location='washington, dc', attributes='restaurant')\n",
    "pprint(indian_results['total'])"
   ]
  },
  {
   "cell_type": "code",
   "execution_count": 5,
   "metadata": {},
   "outputs": [
    {
     "data": {
      "text/html": [
       "<div>\n",
       "<style scoped>\n",
       "    .dataframe tbody tr th:only-of-type {\n",
       "        vertical-align: middle;\n",
       "    }\n",
       "\n",
       "    .dataframe tbody tr th {\n",
       "        vertical-align: top;\n",
       "    }\n",
       "\n",
       "    .dataframe thead th {\n",
       "        text-align: right;\n",
       "    }\n",
       "</style>\n",
       "<table border=\"1\" class=\"dataframe\">\n",
       "  <thead>\n",
       "    <tr style=\"text-align: right;\">\n",
       "      <th></th>\n",
       "      <th>Italian</th>\n",
       "      <th>Mexican</th>\n",
       "      <th>Japanese</th>\n",
       "      <th>Greek</th>\n",
       "      <th>Indian</th>\n",
       "    </tr>\n",
       "  </thead>\n",
       "  <tbody>\n",
       "    <tr>\n",
       "      <th>businesses</th>\n",
       "      <td>[{'id': 'U0tfep9yNBASTe2zAG6cPw', 'alias': 'fi...</td>\n",
       "      <td>[{'id': '094fHChJkrJqztSFCn3ezA', 'alias': 'ta...</td>\n",
       "      <td>[{'id': 'wTz5b1FR8Af06LKjf9eTDQ', 'alias': 'da...</td>\n",
       "      <td>[{'id': 'GBkFa8TJwkaUJsJXXGkTTg', 'alias': 'za...</td>\n",
       "      <td>[{'id': 'CwdlygqT4cWwOtQGsYdoBw', 'alias': 'ra...</td>\n",
       "    </tr>\n",
       "    <tr>\n",
       "      <th>region</th>\n",
       "      <td>{'center': {'longitude': -77.0306396484375, 'l...</td>\n",
       "      <td>{'center': {'longitude': -77.0306396484375, 'l...</td>\n",
       "      <td>{'center': {'longitude': -77.0306396484375, 'l...</td>\n",
       "      <td>{'center': {'longitude': -77.0306396484375, 'l...</td>\n",
       "      <td>{'center': {'longitude': -77.0306396484375, 'l...</td>\n",
       "    </tr>\n",
       "    <tr>\n",
       "      <th>total</th>\n",
       "      <td>1400</td>\n",
       "      <td>1100</td>\n",
       "      <td>456</td>\n",
       "      <td>361</td>\n",
       "      <td>233</td>\n",
       "    </tr>\n",
       "  </tbody>\n",
       "</table>\n",
       "</div>"
      ],
      "text/plain": [
       "                                                      Italian  \\\n",
       "businesses  [{'id': 'U0tfep9yNBASTe2zAG6cPw', 'alias': 'fi...   \n",
       "region      {'center': {'longitude': -77.0306396484375, 'l...   \n",
       "total                                                    1400   \n",
       "\n",
       "                                                      Mexican  \\\n",
       "businesses  [{'id': '094fHChJkrJqztSFCn3ezA', 'alias': 'ta...   \n",
       "region      {'center': {'longitude': -77.0306396484375, 'l...   \n",
       "total                                                    1100   \n",
       "\n",
       "                                                     Japanese  \\\n",
       "businesses  [{'id': 'wTz5b1FR8Af06LKjf9eTDQ', 'alias': 'da...   \n",
       "region      {'center': {'longitude': -77.0306396484375, 'l...   \n",
       "total                                                     456   \n",
       "\n",
       "                                                        Greek  \\\n",
       "businesses  [{'id': 'GBkFa8TJwkaUJsJXXGkTTg', 'alias': 'za...   \n",
       "region      {'center': {'longitude': -77.0306396484375, 'l...   \n",
       "total                                                     361   \n",
       "\n",
       "                                                       Indian  \n",
       "businesses  [{'id': 'CwdlygqT4cWwOtQGsYdoBw', 'alias': 'ra...  \n",
       "region      {'center': {'longitude': -77.0306396484375, 'l...  \n",
       "total                                                     233  "
      ]
     },
     "execution_count": 5,
     "metadata": {},
     "output_type": "execute_result"
    }
   ],
   "source": [
    "washington_dict= ({\"Italian\": italian_results,\n",
    "                \"Mexican\": mexican_results,\n",
    "                \"Japanese\": japanese_results,\n",
    "                \"Greek\": greek_results,\n",
    "                \"Indian\": indian_results    \n",
    "})\n",
    "\n",
    "washington_data = pd.DataFrame(washington_dict)\n",
    "washington_data"
   ]
  },
  {
   "cell_type": "code",
   "execution_count": 6,
   "metadata": {},
   "outputs": [
    {
     "data": {
      "text/html": [
       "<div>\n",
       "<style scoped>\n",
       "    .dataframe tbody tr th:only-of-type {\n",
       "        vertical-align: middle;\n",
       "    }\n",
       "\n",
       "    .dataframe tbody tr th {\n",
       "        vertical-align: top;\n",
       "    }\n",
       "\n",
       "    .dataframe thead th {\n",
       "        text-align: right;\n",
       "    }\n",
       "</style>\n",
       "<table border=\"1\" class=\"dataframe\">\n",
       "  <thead>\n",
       "    <tr style=\"text-align: right;\">\n",
       "      <th></th>\n",
       "      <th>Italian</th>\n",
       "      <th>Mexican</th>\n",
       "      <th>Japanese</th>\n",
       "      <th>Greek</th>\n",
       "      <th>Indian</th>\n",
       "    </tr>\n",
       "  </thead>\n",
       "  <tbody>\n",
       "    <tr>\n",
       "      <th>total</th>\n",
       "      <td>1400</td>\n",
       "      <td>1100</td>\n",
       "      <td>456</td>\n",
       "      <td>361</td>\n",
       "      <td>233</td>\n",
       "    </tr>\n",
       "  </tbody>\n",
       "</table>\n",
       "</div>"
      ],
      "text/plain": [
       "      Italian Mexican Japanese Greek Indian\n",
       "total    1400    1100      456   361    233"
      ]
     },
     "execution_count": 6,
     "metadata": {},
     "output_type": "execute_result"
    }
   ],
   "source": [
    "# Drop businesses & region from dataframe\n",
    "washington_data.drop(['businesses', 'region'], inplace=True)\n",
    "washington_data"
   ]
  },
  {
   "cell_type": "code",
   "execution_count": 7,
   "metadata": {},
   "outputs": [
    {
     "data": {
      "image/png": "[encoded data removed]",
      "text/plain": [
       "<Figure size 432x288 with 1 Axes>"
      ]
     },
     "metadata": {
      "needs_background": "light"
     },
     "output_type": "display_data"
    }
   ],
   "source": [
    "# Bar chart for Washington DC\n",
    "height = washington_data.values.flatten()\n",
    "x_range = range(len(washington_dict))\n",
    "plt.bar(x_range, height, color='r', alpha=0.5, align='center')\n",
    "\n",
    "plt.title(\"Top 5 Cuisine Types in Washington, DC\")\n",
    "plt.xlabel(\"Cuisine Type\")\n",
    "plt.ylabel(\"Number of Restaurants\")\n",
    "plt.xticks(x_range, washington_dict.keys())\n",
    "plt.savefig('DC Top 5')\n",
    "plt.show()"
   ]
  },
  {
   "cell_type": "code",
   "execution_count": 8,
   "metadata": {},
   "outputs": [
    {
     "name": "stdout",
     "output_type": "stream",
     "text": [
      "****** 5 Best Rated Cuisines in Miami, FL ******\n",
      "\n",
      "1600\n",
      "1000\n",
      "490\n",
      "329\n",
      "84\n"
     ]
    }
   ],
   "source": [
    "yelp_api = YelpAPI(api_key)\n",
    "#printing top 5 best rated cuisines spots in Miami, FL\n",
    "print(\"****** 5 Best Rated Cuisines in Miami, FL ******\\n\")\n",
    "\n",
    "italian_results_fl = yelp_api.search_query(term='italian', location='miami, fl', attributes='restaurant')\n",
    "pprint(italian_results_fl['total'])\n",
    "\n",
    "mexican_results_fl = yelp_api.search_query(term='mexican', location='miami, fl', attributes='restaurant')\n",
    "pprint(mexican_results_fl['total'])\n",
    "\n",
    "japanese_results_fl = yelp_api.search_query(term='japanese', location='miami, fl', attributes='restaurant')\n",
    "pprint(japanese_results_fl['total'])\n",
    "\n",
    "greek_results_fl = yelp_api.search_query(term='greek', location='miami, fl', attributes='restaurant')\n",
    "pprint(greek_results_fl['total'])\n",
    "\n",
    "indian_results_fl = yelp_api.search_query(term='indian', location='miami, fl', attributes='restaurant')\n",
    "pprint(indian_results_fl['total'])"
   ]
  },
  {
   "cell_type": "code",
   "execution_count": 9,
   "metadata": {},
   "outputs": [
    {
     "data": {
      "text/html": [
       "<div>\n",
       "<style scoped>\n",
       "    .dataframe tbody tr th:only-of-type {\n",
       "        vertical-align: middle;\n",
       "    }\n",
       "\n",
       "    .dataframe tbody tr th {\n",
       "        vertical-align: top;\n",
       "    }\n",
       "\n",
       "    .dataframe thead th {\n",
       "        text-align: right;\n",
       "    }\n",
       "</style>\n",
       "<table border=\"1\" class=\"dataframe\">\n",
       "  <thead>\n",
       "    <tr style=\"text-align: right;\">\n",
       "      <th></th>\n",
       "      <th>Italian</th>\n",
       "      <th>Mexican</th>\n",
       "      <th>Japanese</th>\n",
       "      <th>Greek</th>\n",
       "      <th>Indian</th>\n",
       "    </tr>\n",
       "  </thead>\n",
       "  <tbody>\n",
       "    <tr>\n",
       "      <th>businesses</th>\n",
       "      <td>[{'id': 'Dg8elPPlCgcIg20rHhRKUw', 'alias': 'mi...</td>\n",
       "      <td>[{'id': 'UBWFHeS_Y4VpTWpv49ak7g', 'alias': 'an...</td>\n",
       "      <td>[{'id': 'Qzk4ux58Aw58IzAmXewEGA', 'alias': 'na...</td>\n",
       "      <td>[{'id': 'nvwXcXSSNoV7FDWvYi_OKA', 'alias': 'ma...</td>\n",
       "      <td>[{'id': 'V3btCvWa1flTBYt2YKea_g', 'alias': 'bo...</td>\n",
       "    </tr>\n",
       "    <tr>\n",
       "      <th>region</th>\n",
       "      <td>{'center': {'longitude': -80.2880859375, 'lati...</td>\n",
       "      <td>{'center': {'longitude': -80.2880859375, 'lati...</td>\n",
       "      <td>{'center': {'longitude': -80.2880859375, 'lati...</td>\n",
       "      <td>{'center': {'longitude': -80.2880859375, 'lati...</td>\n",
       "      <td>{'center': {'longitude': -80.2880859375, 'lati...</td>\n",
       "    </tr>\n",
       "    <tr>\n",
       "      <th>total</th>\n",
       "      <td>1600</td>\n",
       "      <td>1000</td>\n",
       "      <td>490</td>\n",
       "      <td>329</td>\n",
       "      <td>84</td>\n",
       "    </tr>\n",
       "  </tbody>\n",
       "</table>\n",
       "</div>"
      ],
      "text/plain": [
       "                                                      Italian  \\\n",
       "businesses  [{'id': 'Dg8elPPlCgcIg20rHhRKUw', 'alias': 'mi...   \n",
       "region      {'center': {'longitude': -80.2880859375, 'lati...   \n",
       "total                                                    1600   \n",
       "\n",
       "                                                      Mexican  \\\n",
       "businesses  [{'id': 'UBWFHeS_Y4VpTWpv49ak7g', 'alias': 'an...   \n",
       "region      {'center': {'longitude': -80.2880859375, 'lati...   \n",
       "total                                                    1000   \n",
       "\n",
       "                                                     Japanese  \\\n",
       "businesses  [{'id': 'Qzk4ux58Aw58IzAmXewEGA', 'alias': 'na...   \n",
       "region      {'center': {'longitude': -80.2880859375, 'lati...   \n",
       "total                                                     490   \n",
       "\n",
       "                                                        Greek  \\\n",
       "businesses  [{'id': 'nvwXcXSSNoV7FDWvYi_OKA', 'alias': 'ma...   \n",
       "region      {'center': {'longitude': -80.2880859375, 'lati...   \n",
       "total                                                     329   \n",
       "\n",
       "                                                       Indian  \n",
       "businesses  [{'id': 'V3btCvWa1flTBYt2YKea_g', 'alias': 'bo...  \n",
       "region      {'center': {'longitude': -80.2880859375, 'lati...  \n",
       "total                                                      84  "
      ]
     },
     "execution_count": 9,
     "metadata": {},
     "output_type": "execute_result"
    }
   ],
   "source": [
    "miami_dict= ({\"Italian\": italian_results_fl,\n",
    "                \"Mexican\": mexican_results_fl,\n",
    "                \"Japanese\": japanese_results_fl,\n",
    "                \"Greek\": greek_results_fl,\n",
    "                \"Indian\": indian_results_fl    \n",
    "})\n",
    "\n",
    "miami_data = pd.DataFrame(miami_dict)\n",
    "miami_data"
   ]
  },
  {
   "cell_type": "code",
   "execution_count": 10,
   "metadata": {},
   "outputs": [
    {
     "data": {
      "text/html": [
       "<div>\n",
       "<style scoped>\n",
       "    .dataframe tbody tr th:only-of-type {\n",
       "        vertical-align: middle;\n",
       "    }\n",
       "\n",
       "    .dataframe tbody tr th {\n",
       "        vertical-align: top;\n",
       "    }\n",
       "\n",
       "    .dataframe thead th {\n",
       "        text-align: right;\n",
       "    }\n",
       "</style>\n",
       "<table border=\"1\" class=\"dataframe\">\n",
       "  <thead>\n",
       "    <tr style=\"text-align: right;\">\n",
       "      <th></th>\n",
       "      <th>Italian</th>\n",
       "      <th>Mexican</th>\n",
       "      <th>Japanese</th>\n",
       "      <th>Greek</th>\n",
       "      <th>Indian</th>\n",
       "    </tr>\n",
       "  </thead>\n",
       "  <tbody>\n",
       "    <tr>\n",
       "      <th>total</th>\n",
       "      <td>1600</td>\n",
       "      <td>1000</td>\n",
       "      <td>490</td>\n",
       "      <td>329</td>\n",
       "      <td>84</td>\n",
       "    </tr>\n",
       "  </tbody>\n",
       "</table>\n",
       "</div>"
      ],
      "text/plain": [
       "      Italian Mexican Japanese Greek Indian\n",
       "total    1600    1000      490   329     84"
      ]
     },
     "execution_count": 10,
     "metadata": {},
     "output_type": "execute_result"
    }
   ],
   "source": [
    "# Drop businesses & region from dataframe\n",
    "miami_data.drop(['businesses', 'region'], inplace=True)\n",
    "miami_data"
   ]
  },
  {
   "cell_type": "code",
   "execution_count": 11,
   "metadata": {},
   "outputs": [
    {
     "data": {
      "image/png": "[encoded data removed]",
      "text/plain": [
       "<Figure size 432x288 with 1 Axes>"
      ]
     },
     "metadata": {
      "needs_background": "light"
     },
     "output_type": "display_data"
    }
   ],
   "source": [
    "# Bar chart for Miami FL\n",
    "height_fl = miami_data.values.flatten()\n",
    "x_range_fl = range(len(miami_dict))\n",
    "plt.bar(x_range_fl, height_fl, color='b', alpha=0.5, align='center')\n",
    "\n",
    "plt.title(\"Top 5 Cuisine Types in Miami, FL\")\n",
    "plt.xlabel(\"Cuisine Type\")\n",
    "plt.ylabel(\"Number of Restaurants\")\n",
    "plt.xticks(x_range_fl, miami_dict.keys())\n",
    "plt.savefig('Miami Top 5')\n",
    "plt.show()"
   ]
  },
  {
   "cell_type": "code",
   "execution_count": 12,
   "metadata": {},
   "outputs": [],
   "source": [
    "yelp_api = YelpAPI(api_key)\n",
    "#search yelp library for Inexpensive Restaurants ($)\n",
    "dc_search_1_results = yelp_api.search_query(term='restaurants', location='washington, dc', price=1)\n",
    "\n",
    "#search yelp library for Moderate Restaurants ($$)\n",
    "dc_search_2_results = yelp_api.search_query(term='restaurants', location='washington, dc', price=2)\n",
    "\n",
    "#search yelp library for Pricey Restaurants ($$$)\n",
    "dc_search_3_results = yelp_api.search_query(term='restaurants', location='washington, dc', price=3)\n",
    "\n",
    "#search yelp library for Ultra High-End ($$$$)\n",
    "dc_search_4_results = yelp_api.search_query(term='restaurants', location='washington, dc', price=4)"
   ]
  },
  {
   "cell_type": "code",
   "execution_count": 13,
   "metadata": {},
   "outputs": [
    {
     "name": "stdout",
     "output_type": "stream",
     "text": [
      "2500\n",
      "2900\n",
      "219\n",
      "40\n"
     ]
    }
   ],
   "source": [
    "pprint(dc_search_1_results['total'])\n",
    "pprint(dc_search_2_results['total'])\n",
    "pprint(dc_search_3_results['total'])\n",
    "pprint(dc_search_4_results['total'])"
   ]
  },
  {
   "cell_type": "code",
   "execution_count": 14,
   "metadata": {},
   "outputs": [
    {
     "data": {
      "text/html": [
       "<div>\n",
       "<style scoped>\n",
       "    .dataframe tbody tr th:only-of-type {\n",
       "        vertical-align: middle;\n",
       "    }\n",
       "\n",
       "    .dataframe tbody tr th {\n",
       "        vertical-align: top;\n",
       "    }\n",
       "\n",
       "    .dataframe thead th {\n",
       "        text-align: right;\n",
       "    }\n",
       "</style>\n",
       "<table border=\"1\" class=\"dataframe\">\n",
       "  <thead>\n",
       "    <tr style=\"text-align: right;\">\n",
       "      <th></th>\n",
       "      <th>Inexpensive</th>\n",
       "      <th>Moderate</th>\n",
       "      <th>Pricey</th>\n",
       "      <th>High End</th>\n",
       "    </tr>\n",
       "  </thead>\n",
       "  <tbody>\n",
       "    <tr>\n",
       "      <th>businesses</th>\n",
       "      <td>[{'id': 'iqV-9rIC-azTw9OQQc8Vhw', 'alias': 'di...</td>\n",
       "      <td>[{'id': 'B-NQjTjaIPURVtpUQe0-3w', 'alias': 'th...</td>\n",
       "      <td>[{'id': 'j9qYRR8HCXm_GEnetijOGA', 'alias': 'le...</td>\n",
       "      <td>[{'id': 'M46ZaPlzxQNchtWDGTCckw', 'alias': 'pi...</td>\n",
       "    </tr>\n",
       "    <tr>\n",
       "      <th>region</th>\n",
       "      <td>{'center': {'longitude': -77.0306396484375, 'l...</td>\n",
       "      <td>{'center': {'longitude': -77.0306396484375, 'l...</td>\n",
       "      <td>{'center': {'longitude': -77.0306396484375, 'l...</td>\n",
       "      <td>{'center': {'longitude': -77.0306396484375, 'l...</td>\n",
       "    </tr>\n",
       "    <tr>\n",
       "      <th>total</th>\n",
       "      <td>2500</td>\n",
       "      <td>2900</td>\n",
       "      <td>219</td>\n",
       "      <td>40</td>\n",
       "    </tr>\n",
       "  </tbody>\n",
       "</table>\n",
       "</div>"
      ],
      "text/plain": [
       "                                                  Inexpensive  \\\n",
       "businesses  [{'id': 'iqV-9rIC-azTw9OQQc8Vhw', 'alias': 'di...   \n",
       "region      {'center': {'longitude': -77.0306396484375, 'l...   \n",
       "total                                                    2500   \n",
       "\n",
       "                                                     Moderate  \\\n",
       "businesses  [{'id': 'B-NQjTjaIPURVtpUQe0-3w', 'alias': 'th...   \n",
       "region      {'center': {'longitude': -77.0306396484375, 'l...   \n",
       "total                                                    2900   \n",
       "\n",
       "                                                       Pricey  \\\n",
       "businesses  [{'id': 'j9qYRR8HCXm_GEnetijOGA', 'alias': 'le...   \n",
       "region      {'center': {'longitude': -77.0306396484375, 'l...   \n",
       "total                                                     219   \n",
       "\n",
       "                                                     High End  \n",
       "businesses  [{'id': 'M46ZaPlzxQNchtWDGTCckw', 'alias': 'pi...  \n",
       "region      {'center': {'longitude': -77.0306396484375, 'l...  \n",
       "total                                                      40  "
      ]
     },
     "execution_count": 14,
     "metadata": {},
     "output_type": "execute_result"
    }
   ],
   "source": [
    "price_point_dict= ({\"Inexpensive\": dc_search_1_results,\n",
    "                \"Moderate\": dc_search_2_results,\n",
    "                \"Pricey\": dc_search_3_results,\n",
    "                \"High End\": dc_search_4_results   \n",
    "})\n",
    "\n",
    "price_data = pd.DataFrame(price_point_dict)\n",
    "price_data"
   ]
  },
  {
   "cell_type": "code",
   "execution_count": 15,
   "metadata": {},
   "outputs": [
    {
     "data": {
      "text/html": [
       "<div>\n",
       "<style scoped>\n",
       "    .dataframe tbody tr th:only-of-type {\n",
       "        vertical-align: middle;\n",
       "    }\n",
       "\n",
       "    .dataframe tbody tr th {\n",
       "        vertical-align: top;\n",
       "    }\n",
       "\n",
       "    .dataframe thead th {\n",
       "        text-align: right;\n",
       "    }\n",
       "</style>\n",
       "<table border=\"1\" class=\"dataframe\">\n",
       "  <thead>\n",
       "    <tr style=\"text-align: right;\">\n",
       "      <th></th>\n",
       "      <th>Inexpensive</th>\n",
       "      <th>Moderate</th>\n",
       "      <th>Pricey</th>\n",
       "      <th>High End</th>\n",
       "    </tr>\n",
       "  </thead>\n",
       "  <tbody>\n",
       "    <tr>\n",
       "      <th>total</th>\n",
       "      <td>2500</td>\n",
       "      <td>2900</td>\n",
       "      <td>219</td>\n",
       "      <td>40</td>\n",
       "    </tr>\n",
       "  </tbody>\n",
       "</table>\n",
       "</div>"
      ],
      "text/plain": [
       "      Inexpensive Moderate Pricey High End\n",
       "total        2500     2900    219       40"
      ]
     },
     "execution_count": 15,
     "metadata": {},
     "output_type": "execute_result"
    }
   ],
   "source": [
    "# Drop businesses & region from dataframe\n",
    "price_data.drop(['businesses', 'region'], inplace=True)\n",
    "price_data"
   ]
  },
  {
   "cell_type": "code",
   "execution_count": 16,
   "metadata": {},
   "outputs": [
    {
     "data": {
      "image/png": "[encoded data removed]",
      "text/plain": [
       "<Figure size 432x288 with 1 Axes>"
      ]
     },
     "metadata": {
      "needs_background": "light"
     },
     "output_type": "display_data"
    }
   ],
   "source": [
    "# Bar chart for pricing in Washington, DC\n",
    "price_height = price_data.values.flatten()\n",
    "price_x_range = range(len(price_point_dict))\n",
    "plt.bar(price_x_range, price_height, color='r', alpha=0.5, align='center')\n",
    "\n",
    "plt.title(\"Pricing in Washington, DC\")\n",
    "plt.xlabel(\"Price Point\")\n",
    "plt.ylabel(\"Number of Restaurants\")\n",
    "plt.xticks(price_x_range, price_point_dict.keys())\n",
    "plt.savefig('Pricing in DC')\n",
    "plt.show()"
   ]
  },
  {
   "cell_type": "code",
   "execution_count": 17,
   "metadata": {},
   "outputs": [],
   "source": [
    "yelp_api = YelpAPI(api_key)\n",
    "#search yelp library for Inexpensive Restaurants ($)\n",
    "la_search_1_results = yelp_api.search_query(term='restaurants', location='los angeles, ca', price=1)\n",
    "\n",
    "#search yelp library for Moderate Restaurants ($$)\n",
    "la_search_2_results = yelp_api.search_query(term='restaurants', location='los angeles, ca', price=2)\n",
    "\n",
    "#search yelp library for Pricey Restaurants ($$$)\n",
    "la_search_3_results = yelp_api.search_query(term='restaurants', location='los angeles, ca', price=3)\n",
    "\n",
    "#search yelp library for Ultra High-End ($$$$)\n",
    "la_search_4_results = yelp_api.search_query(term='restaurants', location='los angeles, ca', price=4)"
   ]
  },
  {
   "cell_type": "code",
   "execution_count": 18,
   "metadata": {},
   "outputs": [
    {
     "name": "stdout",
     "output_type": "stream",
     "text": [
      "3200\n",
      "3200\n",
      "290\n",
      "77\n"
     ]
    }
   ],
   "source": [
    "pprint(la_search_1_results['total'])\n",
    "pprint(la_search_2_results['total'])\n",
    "pprint(la_search_3_results['total'])\n",
    "pprint(la_search_4_results['total'])"
   ]
  },
  {
   "cell_type": "code",
   "execution_count": 19,
   "metadata": {},
   "outputs": [
    {
     "data": {
      "text/html": [
       "<div>\n",
       "<style scoped>\n",
       "    .dataframe tbody tr th:only-of-type {\n",
       "        vertical-align: middle;\n",
       "    }\n",
       "\n",
       "    .dataframe tbody tr th {\n",
       "        vertical-align: top;\n",
       "    }\n",
       "\n",
       "    .dataframe thead th {\n",
       "        text-align: right;\n",
       "    }\n",
       "</style>\n",
       "<table border=\"1\" class=\"dataframe\">\n",
       "  <thead>\n",
       "    <tr style=\"text-align: right;\">\n",
       "      <th></th>\n",
       "      <th>Inexpensive</th>\n",
       "      <th>Moderate</th>\n",
       "      <th>Pricey</th>\n",
       "      <th>High End</th>\n",
       "    </tr>\n",
       "  </thead>\n",
       "  <tbody>\n",
       "    <tr>\n",
       "      <th>businesses</th>\n",
       "      <td>[{'id': 'AU3_xCIS6aEPFPcUo8hclQ', 'alias': 'ch...</td>\n",
       "      <td>[{'id': 'RVbZaawgEGmto6TxOoVBdQ', 'alias': 'ru...</td>\n",
       "      <td>[{'id': 'fEY0zHaDMfIW3-N__joDKQ', 'alias': 'be...</td>\n",
       "      <td>[{'id': 'TzIJzamxdVGc3zReKbLGaA', 'alias': 'pr...</td>\n",
       "    </tr>\n",
       "    <tr>\n",
       "      <th>region</th>\n",
       "      <td>{'center': {'longitude': -118.32138061523438, ...</td>\n",
       "      <td>{'center': {'longitude': -118.32138061523438, ...</td>\n",
       "      <td>{'center': {'longitude': -118.32138061523438, ...</td>\n",
       "      <td>{'center': {'longitude': -118.32138061523438, ...</td>\n",
       "    </tr>\n",
       "    <tr>\n",
       "      <th>total</th>\n",
       "      <td>3200</td>\n",
       "      <td>3200</td>\n",
       "      <td>290</td>\n",
       "      <td>77</td>\n",
       "    </tr>\n",
       "  </tbody>\n",
       "</table>\n",
       "</div>"
      ],
      "text/plain": [
       "                                                  Inexpensive  \\\n",
       "businesses  [{'id': 'AU3_xCIS6aEPFPcUo8hclQ', 'alias': 'ch...   \n",
       "region      {'center': {'longitude': -118.32138061523438, ...   \n",
       "total                                                    3200   \n",
       "\n",
       "                                                     Moderate  \\\n",
       "businesses  [{'id': 'RVbZaawgEGmto6TxOoVBdQ', 'alias': 'ru...   \n",
       "region      {'center': {'longitude': -118.32138061523438, ...   \n",
       "total                                                    3200   \n",
       "\n",
       "                                                       Pricey  \\\n",
       "businesses  [{'id': 'fEY0zHaDMfIW3-N__joDKQ', 'alias': 'be...   \n",
       "region      {'center': {'longitude': -118.32138061523438, ...   \n",
       "total                                                     290   \n",
       "\n",
       "                                                     High End  \n",
       "businesses  [{'id': 'TzIJzamxdVGc3zReKbLGaA', 'alias': 'pr...  \n",
       "region      {'center': {'longitude': -118.32138061523438, ...  \n",
       "total                                                      77  "
      ]
     },
     "execution_count": 19,
     "metadata": {},
     "output_type": "execute_result"
    }
   ],
   "source": [
    "la_price_point_dict= ({\"Inexpensive\": la_search_1_results,\n",
    "                \"Moderate\": la_search_2_results,\n",
    "                \"Pricey\": la_search_3_results,\n",
    "                \"High End\": la_search_4_results   \n",
    "})\n",
    "\n",
    "la_price_data = pd.DataFrame(la_price_point_dict)\n",
    "la_price_data"
   ]
  },
  {
   "cell_type": "code",
   "execution_count": 20,
   "metadata": {},
   "outputs": [
    {
     "data": {
      "text/html": [
       "<div>\n",
       "<style scoped>\n",
       "    .dataframe tbody tr th:only-of-type {\n",
       "        vertical-align: middle;\n",
       "    }\n",
       "\n",
       "    .dataframe tbody tr th {\n",
       "        vertical-align: top;\n",
       "    }\n",
       "\n",
       "    .dataframe thead th {\n",
       "        text-align: right;\n",
       "    }\n",
       "</style>\n",
       "<table border=\"1\" class=\"dataframe\">\n",
       "  <thead>\n",
       "    <tr style=\"text-align: right;\">\n",
       "      <th></th>\n",
       "      <th>Inexpensive</th>\n",
       "      <th>Moderate</th>\n",
       "      <th>Pricey</th>\n",
       "      <th>High End</th>\n",
       "    </tr>\n",
       "  </thead>\n",
       "  <tbody>\n",
       "    <tr>\n",
       "      <th>total</th>\n",
       "      <td>3200</td>\n",
       "      <td>3200</td>\n",
       "      <td>290</td>\n",
       "      <td>77</td>\n",
       "    </tr>\n",
       "  </tbody>\n",
       "</table>\n",
       "</div>"
      ],
      "text/plain": [
       "      Inexpensive Moderate Pricey High End\n",
       "total        3200     3200    290       77"
      ]
     },
     "execution_count": 20,
     "metadata": {},
     "output_type": "execute_result"
    }
   ],
   "source": [
    "# Drop businesses & region from dataframe\n",
    "la_price_data.drop(['businesses', 'region'], inplace=True)\n",
    "la_price_data"
   ]
  },
  {
   "cell_type": "code",
   "execution_count": 21,
   "metadata": {},
   "outputs": [
    {
     "data": {
      "image/png": "[encoded data removed]",
      "text/plain": [
       "<Figure size 432x288 with 1 Axes>"
      ]
     },
     "metadata": {
      "needs_background": "light"
     },
     "output_type": "display_data"
    }
   ],
   "source": [
    "# Bar chart for pricing in Washington, DC\n",
    "la_price_height = la_price_data.values.flatten()\n",
    "la_price_x_range = range(len(la_price_point_dict))\n",
    "plt.bar(la_price_x_range, la_price_height, color='g', alpha=0.5, align='center')\n",
    "\n",
    "plt.title(\"Pricing in Los Angeles, CA\")\n",
    "plt.xlabel(\"Price Point\")\n",
    "plt.ylabel(\"Number of Restaurants\")\n",
    "plt.xticks(la_price_x_range, la_price_point_dict.keys())\n",
    "plt.savefig('Pricing in LA')\n",
    "plt.show()"
   ]
  },
  {
   "cell_type": "code",
   "execution_count": 22,
   "metadata": {},
   "outputs": [
    {
     "name": "stdout",
     "output_type": "stream",
     "text": [
      "2300\n",
      "1400\n",
      "916\n",
      "1500\n"
     ]
    }
   ],
   "source": [
    "#Request to pull the number of Wheelchair accessible restaurants from each city\n",
    "yelp_api = YelpAPI(api_key)\n",
    "\n",
    "#Wheelchair accessible restaurants in LA\n",
    "wc_la_results = yelp_api.search_query(term='restaurants', location='los angeles, ca', attributes=\"wheelchair_accessible\")\n",
    "pprint(wc_la_results['total'])\n",
    "\n",
    "#Wheelchair accessible restaurants in DC\n",
    "wc_dc_results = yelp_api.search_query(term='restaurants', location='washington, dc', attributes=\"wheelchair_accessible\")\n",
    "pprint(wc_dc_results['total'])\n",
    "\n",
    "#Wheelchair accessible restaurants in Miami\n",
    "wc_mia_results = yelp_api.search_query(term='restaurants', location='miami, fl', attributes=\"wheelchair_accessible\")\n",
    "pprint(wc_mia_results['total'])\n",
    "\n",
    "#Wheelchair accessible restaurants in Chicago\n",
    "wc_chi_results = yelp_api.search_query(term='restaurants', location='chicago, il', attributes=\"wheelchair_accessible\")\n",
    "pprint(wc_chi_results['total'])"
   ]
  },
  {
   "cell_type": "code",
   "execution_count": 23,
   "metadata": {},
   "outputs": [
    {
     "data": {
      "text/html": [
       "<div>\n",
       "<style scoped>\n",
       "    .dataframe tbody tr th:only-of-type {\n",
       "        vertical-align: middle;\n",
       "    }\n",
       "\n",
       "    .dataframe tbody tr th {\n",
       "        vertical-align: top;\n",
       "    }\n",
       "\n",
       "    .dataframe thead th {\n",
       "        text-align: right;\n",
       "    }\n",
       "</style>\n",
       "<table border=\"1\" class=\"dataframe\">\n",
       "  <thead>\n",
       "    <tr style=\"text-align: right;\">\n",
       "      <th></th>\n",
       "      <th>Los Angeles</th>\n",
       "      <th>DC</th>\n",
       "      <th>Miami</th>\n",
       "      <th>Chicago</th>\n",
       "    </tr>\n",
       "  </thead>\n",
       "  <tbody>\n",
       "    <tr>\n",
       "      <th>businesses</th>\n",
       "      <td>[{'id': 'RVbZaawgEGmto6TxOoVBdQ', 'alias': 'ru...</td>\n",
       "      <td>[{'id': 'hZ6Bk6thWcFGNRIYwH076A', 'alias': 're...</td>\n",
       "      <td>[{'id': 'UXHxLN3DcDGI57uDIfCuJA', 'alias': 'ol...</td>\n",
       "      <td>[{'id': 'zm6Peew9j8YtowzUu4sQfA', 'alias': 'th...</td>\n",
       "    </tr>\n",
       "    <tr>\n",
       "      <th>region</th>\n",
       "      <td>{'center': {'longitude': -118.32138061523438, ...</td>\n",
       "      <td>{'center': {'longitude': -77.0306396484375, 'l...</td>\n",
       "      <td>{'center': {'longitude': -80.2880859375, 'lati...</td>\n",
       "      <td>{'center': {'longitude': -87.67776489257812, '...</td>\n",
       "    </tr>\n",
       "    <tr>\n",
       "      <th>total</th>\n",
       "      <td>2300</td>\n",
       "      <td>1400</td>\n",
       "      <td>916</td>\n",
       "      <td>1500</td>\n",
       "    </tr>\n",
       "  </tbody>\n",
       "</table>\n",
       "</div>"
      ],
      "text/plain": [
       "                                                  Los Angeles  \\\n",
       "businesses  [{'id': 'RVbZaawgEGmto6TxOoVBdQ', 'alias': 'ru...   \n",
       "region      {'center': {'longitude': -118.32138061523438, ...   \n",
       "total                                                    2300   \n",
       "\n",
       "                                                           DC  \\\n",
       "businesses  [{'id': 'hZ6Bk6thWcFGNRIYwH076A', 'alias': 're...   \n",
       "region      {'center': {'longitude': -77.0306396484375, 'l...   \n",
       "total                                                    1400   \n",
       "\n",
       "                                                        Miami  \\\n",
       "businesses  [{'id': 'UXHxLN3DcDGI57uDIfCuJA', 'alias': 'ol...   \n",
       "region      {'center': {'longitude': -80.2880859375, 'lati...   \n",
       "total                                                     916   \n",
       "\n",
       "                                                      Chicago  \n",
       "businesses  [{'id': 'zm6Peew9j8YtowzUu4sQfA', 'alias': 'th...  \n",
       "region      {'center': {'longitude': -87.67776489257812, '...  \n",
       "total                                                    1500  "
      ]
     },
     "execution_count": 23,
     "metadata": {},
     "output_type": "execute_result"
    }
   ],
   "source": [
    "#Create DataFrame to hold results\n",
    "access_dict= ({\"Los Angeles\": wc_la_results,\n",
    "                \"DC\": wc_dc_results,\n",
    "                \"Miami\": wc_mia_results,\n",
    "                \"Chicago\": wc_chi_results  \n",
    "})\n",
    "\n",
    "access_data = pd.DataFrame(access_dict)\n",
    "access_data"
   ]
  },
  {
   "cell_type": "code",
   "execution_count": 24,
   "metadata": {},
   "outputs": [
    {
     "data": {
      "text/html": [
       "<div>\n",
       "<style scoped>\n",
       "    .dataframe tbody tr th:only-of-type {\n",
       "        vertical-align: middle;\n",
       "    }\n",
       "\n",
       "    .dataframe tbody tr th {\n",
       "        vertical-align: top;\n",
       "    }\n",
       "\n",
       "    .dataframe thead th {\n",
       "        text-align: right;\n",
       "    }\n",
       "</style>\n",
       "<table border=\"1\" class=\"dataframe\">\n",
       "  <thead>\n",
       "    <tr style=\"text-align: right;\">\n",
       "      <th></th>\n",
       "      <th>Los Angeles</th>\n",
       "      <th>DC</th>\n",
       "      <th>Miami</th>\n",
       "      <th>Chicago</th>\n",
       "    </tr>\n",
       "  </thead>\n",
       "  <tbody>\n",
       "    <tr>\n",
       "      <th>total</th>\n",
       "      <td>2300</td>\n",
       "      <td>1400</td>\n",
       "      <td>916</td>\n",
       "      <td>1500</td>\n",
       "    </tr>\n",
       "  </tbody>\n",
       "</table>\n",
       "</div>"
      ],
      "text/plain": [
       "      Los Angeles    DC Miami Chicago\n",
       "total        2300  1400   916    1500"
      ]
     },
     "execution_count": 24,
     "metadata": {},
     "output_type": "execute_result"
    }
   ],
   "source": [
    "# Drop businesses & region from dataframe\n",
    "access_data.drop(['businesses', 'region'], inplace=True)\n",
    "access_data"
   ]
  },
  {
   "cell_type": "code",
   "execution_count": 25,
   "metadata": {},
   "outputs": [
    {
     "name": "stdout",
     "output_type": "stream",
     "text": [
      "8300\n",
      "6800\n",
      "3300\n",
      "5900\n"
     ]
    }
   ],
   "source": [
    "#Request to pull total number of restaurants from each city\n",
    "yelp_api = YelpAPI(api_key)\n",
    "\n",
    "#Total number of restaurants in LA\n",
    "la_total = yelp_api.search_query(term='restaurants', location='los angeles, ca')\n",
    "pprint (la_total['total'])\n",
    "\n",
    "#Total number of restaurants in DC\n",
    "dc_total = yelp_api.search_query(term='restaurants', location='washington, dc')\n",
    "pprint (dc_total['total'])\n",
    "\n",
    "#Total number of restaurants in Miami\n",
    "mia_total = yelp_api.search_query(term='restaurants', location='miami, fl')\n",
    "pprint (mia_total['total'])\n",
    "\n",
    "#Total number of restaurants in Chicago\n",
    "chi_total = yelp_api.search_query(term='restaurants', location='chicago, il')\n",
    "pprint (chi_total['total'])"
   ]
  },
  {
   "cell_type": "code",
   "execution_count": 26,
   "metadata": {},
   "outputs": [
    {
     "data": {
      "text/html": [
       "<div>\n",
       "<style scoped>\n",
       "    .dataframe tbody tr th:only-of-type {\n",
       "        vertical-align: middle;\n",
       "    }\n",
       "\n",
       "    .dataframe tbody tr th {\n",
       "        vertical-align: top;\n",
       "    }\n",
       "\n",
       "    .dataframe thead th {\n",
       "        text-align: right;\n",
       "    }\n",
       "</style>\n",
       "<table border=\"1\" class=\"dataframe\">\n",
       "  <thead>\n",
       "    <tr style=\"text-align: right;\">\n",
       "      <th></th>\n",
       "      <th>Los Angeles</th>\n",
       "      <th>DC</th>\n",
       "      <th>Miami</th>\n",
       "      <th>Chicago</th>\n",
       "    </tr>\n",
       "  </thead>\n",
       "  <tbody>\n",
       "    <tr>\n",
       "      <th>businesses</th>\n",
       "      <td>[{'id': 'RVbZaawgEGmto6TxOoVBdQ', 'alias': 'ru...</td>\n",
       "      <td>[{'id': 'B-NQjTjaIPURVtpUQe0-3w', 'alias': 'th...</td>\n",
       "      <td>[{'id': 'ix8ifP1jQM9ektdVAs19sQ', 'alias': 'cr...</td>\n",
       "      <td>[{'id': 'zm6Peew9j8YtowzUu4sQfA', 'alias': 'th...</td>\n",
       "    </tr>\n",
       "    <tr>\n",
       "      <th>region</th>\n",
       "      <td>{'center': {'longitude': -118.32138061523438, ...</td>\n",
       "      <td>{'center': {'longitude': -77.0306396484375, 'l...</td>\n",
       "      <td>{'center': {'longitude': -80.2880859375, 'lati...</td>\n",
       "      <td>{'center': {'longitude': -87.67776489257812, '...</td>\n",
       "    </tr>\n",
       "    <tr>\n",
       "      <th>total</th>\n",
       "      <td>8300</td>\n",
       "      <td>6800</td>\n",
       "      <td>3300</td>\n",
       "      <td>5900</td>\n",
       "    </tr>\n",
       "  </tbody>\n",
       "</table>\n",
       "</div>"
      ],
      "text/plain": [
       "                                                  Los Angeles  \\\n",
       "businesses  [{'id': 'RVbZaawgEGmto6TxOoVBdQ', 'alias': 'ru...   \n",
       "region      {'center': {'longitude': -118.32138061523438, ...   \n",
       "total                                                    8300   \n",
       "\n",
       "                                                           DC  \\\n",
       "businesses  [{'id': 'B-NQjTjaIPURVtpUQe0-3w', 'alias': 'th...   \n",
       "region      {'center': {'longitude': -77.0306396484375, 'l...   \n",
       "total                                                    6800   \n",
       "\n",
       "                                                        Miami  \\\n",
       "businesses  [{'id': 'ix8ifP1jQM9ektdVAs19sQ', 'alias': 'cr...   \n",
       "region      {'center': {'longitude': -80.2880859375, 'lati...   \n",
       "total                                                    3300   \n",
       "\n",
       "                                                      Chicago  \n",
       "businesses  [{'id': 'zm6Peew9j8YtowzUu4sQfA', 'alias': 'th...  \n",
       "region      {'center': {'longitude': -87.67776489257812, '...  \n",
       "total                                                    5900  "
      ]
     },
     "execution_count": 26,
     "metadata": {},
     "output_type": "execute_result"
    }
   ],
   "source": [
    "#Create DataFrame to hold results\n",
    "total_dict= ({\"Los Angeles\": la_total,\n",
    "                \"DC\": dc_total,\n",
    "                \"Miami\": mia_total,\n",
    "                \"Chicago\": chi_total  \n",
    "})\n",
    "\n",
    "total_data = pd.DataFrame(total_dict)\n",
    "total_data"
   ]
  },
  {
   "cell_type": "code",
   "execution_count": 27,
   "metadata": {},
   "outputs": [
    {
     "data": {
      "text/html": [
       "<div>\n",
       "<style scoped>\n",
       "    .dataframe tbody tr th:only-of-type {\n",
       "        vertical-align: middle;\n",
       "    }\n",
       "\n",
       "    .dataframe tbody tr th {\n",
       "        vertical-align: top;\n",
       "    }\n",
       "\n",
       "    .dataframe thead th {\n",
       "        text-align: right;\n",
       "    }\n",
       "</style>\n",
       "<table border=\"1\" class=\"dataframe\">\n",
       "  <thead>\n",
       "    <tr style=\"text-align: right;\">\n",
       "      <th></th>\n",
       "      <th>Los Angeles</th>\n",
       "      <th>DC</th>\n",
       "      <th>Miami</th>\n",
       "      <th>Chicago</th>\n",
       "    </tr>\n",
       "  </thead>\n",
       "  <tbody>\n",
       "    <tr>\n",
       "      <th>total</th>\n",
       "      <td>8300</td>\n",
       "      <td>6800</td>\n",
       "      <td>3300</td>\n",
       "      <td>5900</td>\n",
       "    </tr>\n",
       "  </tbody>\n",
       "</table>\n",
       "</div>"
      ],
      "text/plain": [
       "      Los Angeles    DC Miami Chicago\n",
       "total        8300  6800  3300    5900"
      ]
     },
     "execution_count": 27,
     "metadata": {},
     "output_type": "execute_result"
    }
   ],
   "source": [
    "# Drop businesses & region from dataframe\n",
    "total_data.drop(['businesses', 'region'], inplace=True)\n",
    "total_data"
   ]
  },
  {
   "cell_type": "code",
   "execution_count": 28,
   "metadata": {},
   "outputs": [],
   "source": [
    "# Do the math for % accessibility\n",
    "la_access = (2300/8300) \n",
    "dc_access = (1400/6800)\n",
    "fl_access = (913/3300)\n",
    "chi_access = (1500/5900)"
   ]
  },
  {
   "cell_type": "code",
   "execution_count": 29,
   "metadata": {},
   "outputs": [
    {
     "name": "stdout",
     "output_type": "stream",
     "text": [
      "0.27710843373493976\n",
      "0.20588235294117646\n",
      "0.27666666666666667\n",
      "0.2542372881355932\n"
     ]
    }
   ],
   "source": [
    "# Print to see if correct\n",
    "print(la_access)\n",
    "print(dc_access)\n",
    "print(fl_access)\n",
    "print(chi_access)"
   ]
  },
  {
   "cell_type": "code",
   "execution_count": 30,
   "metadata": {},
   "outputs": [
    {
     "data": {
      "text/html": [
       "<div>\n",
       "<style scoped>\n",
       "    .dataframe tbody tr th:only-of-type {\n",
       "        vertical-align: middle;\n",
       "    }\n",
       "\n",
       "    .dataframe tbody tr th {\n",
       "        vertical-align: top;\n",
       "    }\n",
       "\n",
       "    .dataframe thead th {\n",
       "        text-align: right;\n",
       "    }\n",
       "</style>\n",
       "<table border=\"1\" class=\"dataframe\">\n",
       "  <thead>\n",
       "    <tr style=\"text-align: right;\">\n",
       "      <th></th>\n",
       "      <th>Los Angeles</th>\n",
       "      <th>Washginton, DC</th>\n",
       "      <th>Miami</th>\n",
       "      <th>Chicago</th>\n",
       "    </tr>\n",
       "  </thead>\n",
       "  <tbody>\n",
       "    <tr>\n",
       "      <th>0</th>\n",
       "      <td>0.277108</td>\n",
       "      <td>0.205882</td>\n",
       "      <td>0.276667</td>\n",
       "      <td>0.254237</td>\n",
       "    </tr>\n",
       "  </tbody>\n",
       "</table>\n",
       "</div>"
      ],
      "text/plain": [
       "   Los Angeles  Washginton, DC     Miami   Chicago\n",
       "0     0.277108        0.205882  0.276667  0.254237"
      ]
     },
     "execution_count": 30,
     "metadata": {},
     "output_type": "execute_result"
    }
   ],
   "source": [
    "# Create DataFrame for wheelchair accessibility\n",
    "access_dict= ({\"Los Angeles\": la_access,\n",
    "                \"Washginton, DC\": dc_access,\n",
    "                \"Miami\": fl_access,\n",
    "                \"Chicago\": chi_access   \n",
    "})\n",
    "\n",
    "accessibility_data = pd.DataFrame(access_dict, index = [0])\n",
    "accessibility_data"
   ]
  },
  {
   "cell_type": "code",
   "execution_count": 31,
   "metadata": {},
   "outputs": [],
   "source": [
    "# Create pie chart for LA\n",
    "labels = [\"Accessible\", \"Non-Accessible\"]\n",
    "sizes = [27.7, 72.3]\n",
    "colors = [\"lawngreen\", \"darkgrey\"]\n",
    "explode = (0.1, 0)"
   ]
  },
  {
   "cell_type": "code",
   "execution_count": 32,
   "metadata": {},
   "outputs": [
    {
     "data": {
      "image/png": "[encoded data removed]",
      "text/plain": [
       "<Figure size 432x288 with 1 Axes>"
      ]
     },
     "metadata": {},
     "output_type": "display_data"
    }
   ],
   "source": [
    "plt.pie(sizes, explode=explode, labels=labels, colors=colors, autopct=\"%1.1f%%\", shadow=True, startangle=150)\n",
    "plt.title('Wheelchair Accessibility in LA')\n",
    "plt.savefig('Accessibility in LA')\n",
    "plt.show()"
   ]
  },
  {
   "cell_type": "code",
   "execution_count": 33,
   "metadata": {},
   "outputs": [],
   "source": [
    "# Create pie chart for DC\n",
    "labels = [\"Accessible\", \"Non-Accessible\"]\n",
    "sizes = [20.6, 79.4]\n",
    "colors = [\"red\", \"darkgrey\"]\n",
    "explode = (0.1, 0)"
   ]
  },
  {
   "cell_type": "code",
   "execution_count": 34,
   "metadata": {},
   "outputs": [
    {
     "data": {
      "image/png": "[encoded data removed]",
      "text/plain": [
       "<Figure size 432x288 with 1 Axes>"
      ]
     },
     "metadata": {},
     "output_type": "display_data"
    }
   ],
   "source": [
    "plt.pie(sizes, explode=explode, labels=labels, colors=colors, autopct=\"%1.1f%%\", shadow=True, startangle=150)\n",
    "plt.title('Wheelchair Accessibility in DC')\n",
    "plt.savefig('Accessibility in DC')\n",
    "plt.show()"
   ]
  },
  {
   "cell_type": "code",
   "execution_count": 35,
   "metadata": {},
   "outputs": [],
   "source": [
    "# Create pie chart for Miami\n",
    "labels = [\"Accessible\", \"Non-Accessible\"]\n",
    "sizes = [27.7, 72.3]\n",
    "colors = [\"royalblue\", \"darkgrey\"]\n",
    "explode = (0.1, 0)"
   ]
  },
  {
   "cell_type": "code",
   "execution_count": 36,
   "metadata": {},
   "outputs": [
    {
     "data": {
      "image/png": "[encoded data removed]",
      "text/plain": [
       "<Figure size 432x288 with 1 Axes>"
      ]
     },
     "metadata": {},
     "output_type": "display_data"
    }
   ],
   "source": [
    "plt.pie(sizes, explode=explode, labels=labels, colors=colors, autopct=\"%1.1f%%\", shadow=True, startangle=150)\n",
    "plt.title('Wheelchair Accessibility in Miami')\n",
    "plt.savefig('Accessibility in Miami')\n",
    "plt.show()"
   ]
  },
  {
   "cell_type": "code",
   "execution_count": 37,
   "metadata": {},
   "outputs": [],
   "source": [
    "# Create pie chart for Chicago\n",
    "labels = [\"Accessible\", \"Non-Accessible\"]\n",
    "sizes = [25.4, 74.6]\n",
    "colors = [\"mediumpurple\", \"darkgrey\"]\n",
    "explode = (0.1, 0)"
   ]
  },
  {
   "cell_type": "code",
   "execution_count": 38,
   "metadata": {},
   "outputs": [
    {
     "data": {
      "image/png": "[encoded data removed]",
      "text/plain": [
       "<Figure size 432x288 with 1 Axes>"
      ]
     },
     "metadata": {},
     "output_type": "display_data"
    }
   ],
   "source": [
    "plt.pie(sizes, explode=explode, labels=labels, colors=colors, autopct=\"%1.1f%%\", shadow=True, startangle=150)\n",
    "plt.title('Wheelchair Accessibility in Chicago')\n",
    "plt.savefig('Accessibility in Chicago')\n",
    "plt.show()"
   ]
  },
  {
   "cell_type": "code",
   "execution_count": null,
   "metadata": {},
   "outputs": [],
   "source": []
  }
 ],
 "metadata": {
  "kernelspec": {
   "display_name": "Python 3",
   "language": "python",
   "name": "python3"
  },
  "language_info": {
   "codemirror_mode": {
    "name": "ipython",
    "version": 3
   },
   "file_extension": ".py",
   "mimetype": "text/x-python",
   "name": "python",
   "nbconvert_exporter": "python",
   "pygments_lexer": "ipython3",
   "version": "3.6.8"
  }
 },
 "nbformat": 4,
 "nbformat_minor": 2
}
