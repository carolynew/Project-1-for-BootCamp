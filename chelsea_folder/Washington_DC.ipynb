{
 "cells": [
  {
   "cell_type": "code",
   "execution_count": 1,
   "metadata": {},
   "outputs": [
    {
     "name": "stdout",
     "output_type": "stream",
     "text": [
      "Requirement already satisfied: yelpapi in c:\\users\\clsch\\anaconda3\\envs\\pythondata\\lib\\site-packages (2.4.0)\n",
      "Requirement already satisfied: requests in c:\\users\\clsch\\anaconda3\\envs\\pythondata\\lib\\site-packages (from yelpapi) (2.22.0)\n",
      "Requirement already satisfied: urllib3!=1.25.0,!=1.25.1,<1.26,>=1.21.1 in c:\\users\\clsch\\anaconda3\\envs\\pythondata\\lib\\site-packages (from requests->yelpapi) (1.24.2)\n",
      "Requirement already satisfied: certifi>=2017.4.17 in c:\\users\\clsch\\anaconda3\\envs\\pythondata\\lib\\site-packages (from requests->yelpapi) (2019.6.16)\n",
      "Requirement already satisfied: chardet<3.1.0,>=3.0.2 in c:\\users\\clsch\\anaconda3\\envs\\pythondata\\lib\\site-packages (from requests->yelpapi) (3.0.4)\n",
      "Requirement already satisfied: idna<2.9,>=2.5 in c:\\users\\clsch\\anaconda3\\envs\\pythondata\\lib\\site-packages (from requests->yelpapi) (2.8)\n",
      "Note: you may need to restart the kernel to use updated packages.\n"
     ]
    }
   ],
   "source": [
    "pip install yelpapi"
   ]
  },
  {
   "cell_type": "code",
   "execution_count": 2,
   "metadata": {},
   "outputs": [
    {
     "data": {
      "text/plain": [
       "_StoreAction(option_strings=[], dest='d1rvGhfWij6SncPbQMlX9MtoaJQQLCqJmRsY8LhWe-xYgIP3lTUMMgjNNOqz-hWgtoNzxMAH_BPDZnqSOYinUSKm2ZdANU7CVOBwKrCDtEPVSawcoL-2SkQYSYFqXXYx', nargs=None, const=None, default=None, type=<class 'str'>, choices=None, help='Yelp Fusion API Key', metavar=None)"
      ]
     },
     "execution_count": 2,
     "metadata": {},
     "output_type": "execute_result"
    }
   ],
   "source": [
    "import csv\n",
    "import matplotlib.pyplot as plt \n",
    "import requests\n",
    "import json\n",
    "import pandas as pd \n",
    "from config import api_key\n",
    "from yelpapi import YelpAPI\n",
    "import argparse\n",
    "\n",
    "from pprint import pprint\n",
    "\n",
    "argparser = argparse.ArgumentParser(description='Example Yelp queries using yelpapi. Visit https://www.yelp.com/developers/v3/manage_app to get the necessary API keys.')\n",
    "argparser.add_argument(api_key, type=str, help='Yelp Fusion API Key')"
   ]
  },
  {
   "cell_type": "code",
   "execution_count": 3,
   "metadata": {},
   "outputs": [],
   "source": [
    "headers = {'Authorization': 'Bearer %s' % api_key}"
   ]
  },
  {
   "cell_type": "code",
   "execution_count": 9,
   "metadata": {},
   "outputs": [
    {
     "name": "stdout",
     "output_type": "stream",
     "text": [
      "****** 5 Best Rated Cuisines in Washington, DC ******\n",
      "\n",
      "1400\n",
      "1100\n",
      "456\n",
      "361\n",
      "233\n"
     ]
    }
   ],
   "source": [
    "yelp_api = YelpAPI(api_key)\n",
    "#printing top 5 best rated cuisines spots in Washington, DC\n",
    "print(\"****** 5 Best Rated Cuisines in Washington, DC ******\\n\")\n",
    "\n",
    "italian_results = yelp_api.search_query(term='italian', location='washington, dc', attributes='restaurant')\n",
    "pprint(italian_results['total'])\n",
    "\n",
    "mexican_results = yelp_api.search_query(term='mexican', location='washington, dc', attributes='restaurant')\n",
    "pprint(mexican_results['total'])\n",
    "\n",
    "japanese_results = yelp_api.search_query(term='japanese', location='washington, dc', attributes='restaurant')\n",
    "pprint(japanese_results['total'])\n",
    "\n",
    "greek_results = yelp_api.search_query(term='greek', location='washington, dc', attributes='restaurant')\n",
    "pprint(greek_results['total'])\n",
    "\n",
    "indian_results = yelp_api.search_query(term='indian', location='washington, dc', attributes='restaurant')\n",
    "pprint(indian_results['total'])"
   ]
  },
  {
   "cell_type": "code",
   "execution_count": 6,
   "metadata": {},
   "outputs": [
    {
     "data": {
      "text/html": [
       "<div>\n",
       "<style scoped>\n",
       "    .dataframe tbody tr th:only-of-type {\n",
       "        vertical-align: middle;\n",
       "    }\n",
       "\n",
       "    .dataframe tbody tr th {\n",
       "        vertical-align: top;\n",
       "    }\n",
       "\n",
       "    .dataframe thead th {\n",
       "        text-align: right;\n",
       "    }\n",
       "</style>\n",
       "<table border=\"1\" class=\"dataframe\">\n",
       "  <thead>\n",
       "    <tr style=\"text-align: right;\">\n",
       "      <th></th>\n",
       "      <th>Italian</th>\n",
       "      <th>Mexican</th>\n",
       "      <th>Japanese</th>\n",
       "      <th>Greek</th>\n",
       "      <th>Indian</th>\n",
       "    </tr>\n",
       "  </thead>\n",
       "  <tbody>\n",
       "    <tr>\n",
       "      <th>businesses</th>\n",
       "      <td>[{'id': 'U0tfep9yNBASTe2zAG6cPw', 'alias': 'fi...</td>\n",
       "      <td>[{'id': '094fHChJkrJqztSFCn3ezA', 'alias': 'ta...</td>\n",
       "      <td>[{'id': 'wTz5b1FR8Af06LKjf9eTDQ', 'alias': 'da...</td>\n",
       "      <td>[{'id': 'GBkFa8TJwkaUJsJXXGkTTg', 'alias': 'za...</td>\n",
       "      <td>[{'id': 'n-6O6I7pmmpwkW2pCO-zDw', 'alias': 'in...</td>\n",
       "    </tr>\n",
       "    <tr>\n",
       "      <th>region</th>\n",
       "      <td>{'center': {'longitude': -77.0306396484375, 'l...</td>\n",
       "      <td>{'center': {'longitude': -77.0306396484375, 'l...</td>\n",
       "      <td>{'center': {'longitude': -77.0306396484375, 'l...</td>\n",
       "      <td>{'center': {'longitude': -77.0306396484375, 'l...</td>\n",
       "      <td>{'center': {'longitude': -77.0306396484375, 'l...</td>\n",
       "    </tr>\n",
       "    <tr>\n",
       "      <th>total</th>\n",
       "      <td>1400</td>\n",
       "      <td>1100</td>\n",
       "      <td>456</td>\n",
       "      <td>361</td>\n",
       "      <td>233</td>\n",
       "    </tr>\n",
       "  </tbody>\n",
       "</table>\n",
       "</div>"
      ],
      "text/plain": [
       "                                                      Italian  \\\n",
       "businesses  [{'id': 'U0tfep9yNBASTe2zAG6cPw', 'alias': 'fi...   \n",
       "region      {'center': {'longitude': -77.0306396484375, 'l...   \n",
       "total                                                    1400   \n",
       "\n",
       "                                                      Mexican  \\\n",
       "businesses  [{'id': '094fHChJkrJqztSFCn3ezA', 'alias': 'ta...   \n",
       "region      {'center': {'longitude': -77.0306396484375, 'l...   \n",
       "total                                                    1100   \n",
       "\n",
       "                                                     Japanese  \\\n",
       "businesses  [{'id': 'wTz5b1FR8Af06LKjf9eTDQ', 'alias': 'da...   \n",
       "region      {'center': {'longitude': -77.0306396484375, 'l...   \n",
       "total                                                     456   \n",
       "\n",
       "                                                        Greek  \\\n",
       "businesses  [{'id': 'GBkFa8TJwkaUJsJXXGkTTg', 'alias': 'za...   \n",
       "region      {'center': {'longitude': -77.0306396484375, 'l...   \n",
       "total                                                     361   \n",
       "\n",
       "                                                       Indian  \n",
       "businesses  [{'id': 'n-6O6I7pmmpwkW2pCO-zDw', 'alias': 'in...  \n",
       "region      {'center': {'longitude': -77.0306396484375, 'l...  \n",
       "total                                                     233  "
      ]
     },
     "execution_count": 6,
     "metadata": {},
     "output_type": "execute_result"
    }
   ],
   "source": [
    "washington_dict= ({\"Italian\": italian_results,\n",
    "                \"Mexican\": mexican_results,\n",
    "                \"Japanese\": japanese_results,\n",
    "                \"Greek\": greek_results,\n",
    "                \"Indian\": indian_results    \n",
    "})\n",
    "\n",
    "washington_data = pd.DataFrame(washington_dict)\n",
    "washington_data"
   ]
  },
  {
   "cell_type": "code",
   "execution_count": 7,
   "metadata": {},
   "outputs": [
    {
     "data": {
      "text/html": [
       "<div>\n",
       "<style scoped>\n",
       "    .dataframe tbody tr th:only-of-type {\n",
       "        vertical-align: middle;\n",
       "    }\n",
       "\n",
       "    .dataframe tbody tr th {\n",
       "        vertical-align: top;\n",
       "    }\n",
       "\n",
       "    .dataframe thead th {\n",
       "        text-align: right;\n",
       "    }\n",
       "</style>\n",
       "<table border=\"1\" class=\"dataframe\">\n",
       "  <thead>\n",
       "    <tr style=\"text-align: right;\">\n",
       "      <th></th>\n",
       "      <th>Italian</th>\n",
       "      <th>Mexican</th>\n",
       "      <th>Japanese</th>\n",
       "      <th>Greek</th>\n",
       "      <th>Indian</th>\n",
       "    </tr>\n",
       "  </thead>\n",
       "  <tbody>\n",
       "    <tr>\n",
       "      <th>total</th>\n",
       "      <td>1400</td>\n",
       "      <td>1100</td>\n",
       "      <td>456</td>\n",
       "      <td>361</td>\n",
       "      <td>233</td>\n",
       "    </tr>\n",
       "  </tbody>\n",
       "</table>\n",
       "</div>"
      ],
      "text/plain": [
       "      Italian Mexican Japanese Greek Indian\n",
       "total    1400    1100      456   361    233"
      ]
     },
     "execution_count": 7,
     "metadata": {},
     "output_type": "execute_result"
    }
   ],
   "source": [
    "# Drop businesses & region from dataframe\n",
    "washington_data.drop(['businesses', 'region'], inplace=True)\n",
    "washington_data"
   ]
  },
  {
   "cell_type": "code",
   "execution_count": 8,
   "metadata": {},
   "outputs": [
    {
     "data": {
      "image/png": "[encoded data removed]",
      "text/plain": [
       "<Figure size 432x288 with 1 Axes>"
      ]
     },
     "metadata": {
      "needs_background": "light"
     },
     "output_type": "display_data"
    }
   ],
   "source": [
    "# Bar chart for Washington DC\n",
    "height = washington_data.values.flatten()\n",
    "x_range = range(len(washington_dict))\n",
    "plt.bar(x_range, height, color='r', alpha=0.5, align='center')\n",
    "\n",
    "plt.title(\"Top 5 Cuisine Types in Washington, DC\")\n",
    "plt.xlabel(\"Cuisine Type\")\n",
    "plt.ylabel(\"Number of Restautants\")\n",
    "plt.xticks(x_range, washington_dict.keys())\n",
    "plt.savefig('DC Top 5')\n",
    "plt.show()"
   ]
  },
  {
   "cell_type": "code",
   "execution_count": 10,
   "metadata": {},
   "outputs": [
    {
     "name": "stdout",
     "output_type": "stream",
     "text": [
      "****** 5 Best Rated Cuisines in Miami, FL ******\n",
      "\n",
      "1600\n",
      "1000\n",
      "490\n",
      "329\n",
      "84\n"
     ]
    }
   ],
   "source": [
    "yelp_api = YelpAPI(api_key)\n",
    "#printing top 5 best rated cuisines spots in Miami, FL\n",
    "print(\"****** 5 Best Rated Cuisines in Miami, FL ******\\n\")\n",
    "\n",
    "italian_results_fl = yelp_api.search_query(term='italian', location='miami, fl', attributes='restaurant')\n",
    "pprint(italian_results_fl['total'])\n",
    "\n",
    "mexican_results_fl = yelp_api.search_query(term='mexican', location='miami, fl', attributes='restaurant')\n",
    "pprint(mexican_results_fl['total'])\n",
    "\n",
    "japanese_results_fl = yelp_api.search_query(term='japanese', location='miami, fl', attributes='restaurant')\n",
    "pprint(japanese_results_fl['total'])\n",
    "\n",
    "greek_results_fl = yelp_api.search_query(term='greek', location='miami, fl', attributes='restaurant')\n",
    "pprint(greek_results_fl['total'])\n",
    "\n",
    "indian_results_fl = yelp_api.search_query(term='indian', location='miami, fl', attributes='restaurant')\n",
    "pprint(indian_results_fl['total'])"
   ]
  },
  {
   "cell_type": "code",
   "execution_count": 11,
   "metadata": {},
   "outputs": [
    {
     "data": {
      "text/html": [
       "<div>\n",
       "<style scoped>\n",
       "    .dataframe tbody tr th:only-of-type {\n",
       "        vertical-align: middle;\n",
       "    }\n",
       "\n",
       "    .dataframe tbody tr th {\n",
       "        vertical-align: top;\n",
       "    }\n",
       "\n",
       "    .dataframe thead th {\n",
       "        text-align: right;\n",
       "    }\n",
       "</style>\n",
       "<table border=\"1\" class=\"dataframe\">\n",
       "  <thead>\n",
       "    <tr style=\"text-align: right;\">\n",
       "      <th></th>\n",
       "      <th>Italian</th>\n",
       "      <th>Mexican</th>\n",
       "      <th>Japanese</th>\n",
       "      <th>Greek</th>\n",
       "      <th>Indian</th>\n",
       "    </tr>\n",
       "  </thead>\n",
       "  <tbody>\n",
       "    <tr>\n",
       "      <th>businesses</th>\n",
       "      <td>[{'id': 'Dg8elPPlCgcIg20rHhRKUw', 'alias': 'mi...</td>\n",
       "      <td>[{'id': 'UBWFHeS_Y4VpTWpv49ak7g', 'alias': 'an...</td>\n",
       "      <td>[{'id': 'wUgicT0LJbrHnav4d8SwSA', 'alias': 'gy...</td>\n",
       "      <td>[{'id': 'nvwXcXSSNoV7FDWvYi_OKA', 'alias': 'ma...</td>\n",
       "      <td>[{'id': 'V3btCvWa1flTBYt2YKea_g', 'alias': 'bo...</td>\n",
       "    </tr>\n",
       "    <tr>\n",
       "      <th>region</th>\n",
       "      <td>{'center': {'longitude': -80.2880859375, 'lati...</td>\n",
       "      <td>{'center': {'longitude': -80.2880859375, 'lati...</td>\n",
       "      <td>{'center': {'longitude': -80.2880859375, 'lati...</td>\n",
       "      <td>{'center': {'longitude': -80.2880859375, 'lati...</td>\n",
       "      <td>{'center': {'longitude': -80.2880859375, 'lati...</td>\n",
       "    </tr>\n",
       "    <tr>\n",
       "      <th>total</th>\n",
       "      <td>1600</td>\n",
       "      <td>1000</td>\n",
       "      <td>490</td>\n",
       "      <td>329</td>\n",
       "      <td>84</td>\n",
       "    </tr>\n",
       "  </tbody>\n",
       "</table>\n",
       "</div>"
      ],
      "text/plain": [
       "                                                      Italian  \\\n",
       "businesses  [{'id': 'Dg8elPPlCgcIg20rHhRKUw', 'alias': 'mi...   \n",
       "region      {'center': {'longitude': -80.2880859375, 'lati...   \n",
       "total                                                    1600   \n",
       "\n",
       "                                                      Mexican  \\\n",
       "businesses  [{'id': 'UBWFHeS_Y4VpTWpv49ak7g', 'alias': 'an...   \n",
       "region      {'center': {'longitude': -80.2880859375, 'lati...   \n",
       "total                                                    1000   \n",
       "\n",
       "                                                     Japanese  \\\n",
       "businesses  [{'id': 'wUgicT0LJbrHnav4d8SwSA', 'alias': 'gy...   \n",
       "region      {'center': {'longitude': -80.2880859375, 'lati...   \n",
       "total                                                     490   \n",
       "\n",
       "                                                        Greek  \\\n",
       "businesses  [{'id': 'nvwXcXSSNoV7FDWvYi_OKA', 'alias': 'ma...   \n",
       "region      {'center': {'longitude': -80.2880859375, 'lati...   \n",
       "total                                                     329   \n",
       "\n",
       "                                                       Indian  \n",
       "businesses  [{'id': 'V3btCvWa1flTBYt2YKea_g', 'alias': 'bo...  \n",
       "region      {'center': {'longitude': -80.2880859375, 'lati...  \n",
       "total                                                      84  "
      ]
     },
     "execution_count": 11,
     "metadata": {},
     "output_type": "execute_result"
    }
   ],
   "source": [
    "miami_dict= ({\"Italian\": italian_results_fl,\n",
    "                \"Mexican\": mexican_results_fl,\n",
    "                \"Japanese\": japanese_results_fl,\n",
    "                \"Greek\": greek_results_fl,\n",
    "                \"Indian\": indian_results_fl    \n",
    "})\n",
    "\n",
    "miami_data = pd.DataFrame(miami_dict)\n",
    "miami_data"
   ]
  },
  {
   "cell_type": "code",
   "execution_count": 12,
   "metadata": {},
   "outputs": [
    {
     "data": {
      "text/html": [
       "<div>\n",
       "<style scoped>\n",
       "    .dataframe tbody tr th:only-of-type {\n",
       "        vertical-align: middle;\n",
       "    }\n",
       "\n",
       "    .dataframe tbody tr th {\n",
       "        vertical-align: top;\n",
       "    }\n",
       "\n",
       "    .dataframe thead th {\n",
       "        text-align: right;\n",
       "    }\n",
       "</style>\n",
       "<table border=\"1\" class=\"dataframe\">\n",
       "  <thead>\n",
       "    <tr style=\"text-align: right;\">\n",
       "      <th></th>\n",
       "      <th>Italian</th>\n",
       "      <th>Mexican</th>\n",
       "      <th>Japanese</th>\n",
       "      <th>Greek</th>\n",
       "      <th>Indian</th>\n",
       "    </tr>\n",
       "  </thead>\n",
       "  <tbody>\n",
       "    <tr>\n",
       "      <th>total</th>\n",
       "      <td>1600</td>\n",
       "      <td>1000</td>\n",
       "      <td>490</td>\n",
       "      <td>329</td>\n",
       "      <td>84</td>\n",
       "    </tr>\n",
       "  </tbody>\n",
       "</table>\n",
       "</div>"
      ],
      "text/plain": [
       "      Italian Mexican Japanese Greek Indian\n",
       "total    1600    1000      490   329     84"
      ]
     },
     "execution_count": 12,
     "metadata": {},
     "output_type": "execute_result"
    }
   ],
   "source": [
    "# Drop businesses & region from dataframe\n",
    "miami_data.drop(['businesses', 'region'], inplace=True)\n",
    "miami_data"
   ]
  },
  {
   "cell_type": "code",
   "execution_count": 13,
   "metadata": {},
   "outputs": [
    {
     "data": {
      "image/png": "[encoded data removed]",
      "text/plain": [
       "<Figure size 432x288 with 1 Axes>"
      ]
     },
     "metadata": {
      "needs_background": "light"
     },
     "output_type": "display_data"
    }
   ],
   "source": [
    "# Bar chart for Miami FL\n",
    "height_fl = miami_data.values.flatten()\n",
    "x_range_fl = range(len(miami_dict))\n",
    "plt.bar(x_range_fl, height_fl, color='r', alpha=0.5, align='center')\n",
    "\n",
    "plt.title(\"Top 5 Cuisine Types in Miami, FL\")\n",
    "plt.xlabel(\"Cuisine Type\")\n",
    "plt.ylabel(\"Number of Restautants\")\n",
    "plt.xticks(x_range_fl, miami_dict.keys())\n",
    "plt.savefig('Miami Top 5')\n",
    "plt.show()"
   ]
  },
  {
   "cell_type": "code",
   "execution_count": 36,
   "metadata": {},
   "outputs": [],
   "source": [
    "yelp_api = YelpAPI(api_key)\n",
    "#search yelp library for Inexpensive Restaurants ($)\n",
    "dc_search_1_results = yelp_api.search_query(term='restaurants', location='washington, dc', price=1)\n",
    "\n",
    "#search yelp library for Moderate Restaurants ($$)\n",
    "dc_search_2_results = yelp_api.search_query(term='restaurants', location='washington, dc', price=2)\n",
    "\n",
    "#search yelp library for Pricey Restaurants ($$$)\n",
    "dc_search_3_results = yelp_api.search_query(term='restaurants', location='washington, dc', price=3)\n",
    "\n",
    "#search yelp library for Ultra High-End ($$$$)\n",
    "dc_search_4_results = yelp_api.search_query(term='restaurants', location='washington, dc', price=4)"
   ]
  },
  {
   "cell_type": "code",
   "execution_count": 37,
   "metadata": {},
   "outputs": [
    {
     "name": "stdout",
     "output_type": "stream",
     "text": [
      "2500\n",
      "2900\n",
      "219\n",
      "40\n"
     ]
    }
   ],
   "source": [
    "pprint(dc_search_1_results['total'])\n",
    "pprint(dc_search_2_results['total'])\n",
    "pprint(dc_search_3_results['total'])\n",
    "pprint(dc_search_4_results['total'])"
   ]
  },
  {
   "cell_type": "code",
   "execution_count": 48,
   "metadata": {},
   "outputs": [
    {
     "data": {
      "text/html": [
       "<div>\n",
       "<style scoped>\n",
       "    .dataframe tbody tr th:only-of-type {\n",
       "        vertical-align: middle;\n",
       "    }\n",
       "\n",
       "    .dataframe tbody tr th {\n",
       "        vertical-align: top;\n",
       "    }\n",
       "\n",
       "    .dataframe thead th {\n",
       "        text-align: right;\n",
       "    }\n",
       "</style>\n",
       "<table border=\"1\" class=\"dataframe\">\n",
       "  <thead>\n",
       "    <tr style=\"text-align: right;\">\n",
       "      <th></th>\n",
       "      <th>Inexpensive</th>\n",
       "      <th>Moderate</th>\n",
       "      <th>Pricey</th>\n",
       "      <th>High End</th>\n",
       "    </tr>\n",
       "  </thead>\n",
       "  <tbody>\n",
       "    <tr>\n",
       "      <th>businesses</th>\n",
       "      <td>[{'id': 'iqV-9rIC-azTw9OQQc8Vhw', 'alias': 'di...</td>\n",
       "      <td>[{'id': 'B-NQjTjaIPURVtpUQe0-3w', 'alias': 'th...</td>\n",
       "      <td>[{'id': 'j9qYRR8HCXm_GEnetijOGA', 'alias': 'le...</td>\n",
       "      <td>[{'id': 'M46ZaPlzxQNchtWDGTCckw', 'alias': 'pi...</td>\n",
       "    </tr>\n",
       "    <tr>\n",
       "      <th>region</th>\n",
       "      <td>{'center': {'longitude': -77.0306396484375, 'l...</td>\n",
       "      <td>{'center': {'longitude': -77.0306396484375, 'l...</td>\n",
       "      <td>{'center': {'longitude': -77.0306396484375, 'l...</td>\n",
       "      <td>{'center': {'longitude': -77.0306396484375, 'l...</td>\n",
       "    </tr>\n",
       "    <tr>\n",
       "      <th>total</th>\n",
       "      <td>2500</td>\n",
       "      <td>2900</td>\n",
       "      <td>219</td>\n",
       "      <td>40</td>\n",
       "    </tr>\n",
       "  </tbody>\n",
       "</table>\n",
       "</div>"
      ],
      "text/plain": [
       "                                                  Inexpensive  \\\n",
       "businesses  [{'id': 'iqV-9rIC-azTw9OQQc8Vhw', 'alias': 'di...   \n",
       "region      {'center': {'longitude': -77.0306396484375, 'l...   \n",
       "total                                                    2500   \n",
       "\n",
       "                                                     Moderate  \\\n",
       "businesses  [{'id': 'B-NQjTjaIPURVtpUQe0-3w', 'alias': 'th...   \n",
       "region      {'center': {'longitude': -77.0306396484375, 'l...   \n",
       "total                                                    2900   \n",
       "\n",
       "                                                       Pricey  \\\n",
       "businesses  [{'id': 'j9qYRR8HCXm_GEnetijOGA', 'alias': 'le...   \n",
       "region      {'center': {'longitude': -77.0306396484375, 'l...   \n",
       "total                                                     219   \n",
       "\n",
       "                                                     High End  \n",
       "businesses  [{'id': 'M46ZaPlzxQNchtWDGTCckw', 'alias': 'pi...  \n",
       "region      {'center': {'longitude': -77.0306396484375, 'l...  \n",
       "total                                                      40  "
      ]
     },
     "execution_count": 48,
     "metadata": {},
     "output_type": "execute_result"
    }
   ],
   "source": [
    "price_point_dict= ({\"Inexpensive\": dc_search_1_results,\n",
    "                \"Moderate\": dc_search_2_results,\n",
    "                \"Pricey\": dc_search_3_results,\n",
    "                \"High End\": dc_search_4_results   \n",
    "})\n",
    "\n",
    "price_data = pd.DataFrame(price_point_dict)\n",
    "price_data"
   ]
  },
  {
   "cell_type": "code",
   "execution_count": 49,
   "metadata": {},
   "outputs": [
    {
     "data": {
      "text/html": [
       "<div>\n",
       "<style scoped>\n",
       "    .dataframe tbody tr th:only-of-type {\n",
       "        vertical-align: middle;\n",
       "    }\n",
       "\n",
       "    .dataframe tbody tr th {\n",
       "        vertical-align: top;\n",
       "    }\n",
       "\n",
       "    .dataframe thead th {\n",
       "        text-align: right;\n",
       "    }\n",
       "</style>\n",
       "<table border=\"1\" class=\"dataframe\">\n",
       "  <thead>\n",
       "    <tr style=\"text-align: right;\">\n",
       "      <th></th>\n",
       "      <th>Inexpensive</th>\n",
       "      <th>Moderate</th>\n",
       "      <th>Pricey</th>\n",
       "      <th>High End</th>\n",
       "    </tr>\n",
       "  </thead>\n",
       "  <tbody>\n",
       "    <tr>\n",
       "      <th>total</th>\n",
       "      <td>2500</td>\n",
       "      <td>2900</td>\n",
       "      <td>219</td>\n",
       "      <td>40</td>\n",
       "    </tr>\n",
       "  </tbody>\n",
       "</table>\n",
       "</div>"
      ],
      "text/plain": [
       "      Inexpensive Moderate Pricey High End\n",
       "total        2500     2900    219       40"
      ]
     },
     "execution_count": 49,
     "metadata": {},
     "output_type": "execute_result"
    }
   ],
   "source": [
    "# Drop businesses & region from dataframe\n",
    "price_data.drop(['businesses', 'region'], inplace=True)\n",
    "price_data"
   ]
  },
  {
   "cell_type": "code",
   "execution_count": 50,
   "metadata": {},
   "outputs": [
    {
     "data": {
      "image/png": "[encoded data removed]",
      "text/plain": [
       "<Figure size 432x288 with 1 Axes>"
      ]
     },
     "metadata": {
      "needs_background": "light"
     },
     "output_type": "display_data"
    }
   ],
   "source": [
    "# Bar chart for pricing in Washington, DC\n",
    "price_height = price_data.values.flatten()\n",
    "price_x_range = range(len(price_point_dict))\n",
    "plt.bar(price_x_range, price_height, color='r', alpha=0.5, align='center')\n",
    "\n",
    "plt.title(\"Pricing in Washington, DC\")\n",
    "plt.xlabel(\"Price Point\")\n",
    "plt.ylabel(\"Number of Restautants\")\n",
    "plt.xticks(price_x_range, price_point_dict.keys())\n",
    "plt.savefig('Pricing in DC')\n",
    "plt.show()"
   ]
  },
  {
   "cell_type": "code",
   "execution_count": 39,
   "metadata": {},
   "outputs": [],
   "source": [
    "yelp_api = YelpAPI(api_key)\n",
    "#search yelp library for Inexpensive Restaurants ($)\n",
    "la_search_1_results = yelp_api.search_query(term='restaurants', location='los angeles, ca', price=1)\n",
    "\n",
    "#search yelp library for Moderate Restaurants ($$)\n",
    "la_search_2_results = yelp_api.search_query(term='restaurants', location='los angeles, ca', price=2)\n",
    "\n",
    "#search yelp library for Pricey Restaurants ($$$)\n",
    "la_search_3_results = yelp_api.search_query(term='restaurants', location='los angeles, ca', price=3)\n",
    "\n",
    "#search yelp library for Ultra High-End ($$$$)\n",
    "la_search_4_results = yelp_api.search_query(term='restaurants', location='los angeles, ca', price=4)"
   ]
  },
  {
   "cell_type": "code",
   "execution_count": 40,
   "metadata": {},
   "outputs": [
    {
     "name": "stdout",
     "output_type": "stream",
     "text": [
      "3200\n",
      "3200\n",
      "290\n",
      "77\n"
     ]
    }
   ],
   "source": [
    "pprint(la_search_1_results['total'])\n",
    "pprint(la_search_2_results['total'])\n",
    "pprint(la_search_3_results['total'])\n",
    "pprint(la_search_4_results['total'])"
   ]
  },
  {
   "cell_type": "code",
   "execution_count": 41,
   "metadata": {},
   "outputs": [
    {
     "data": {
      "text/html": [
       "<div>\n",
       "<style scoped>\n",
       "    .dataframe tbody tr th:only-of-type {\n",
       "        vertical-align: middle;\n",
       "    }\n",
       "\n",
       "    .dataframe tbody tr th {\n",
       "        vertical-align: top;\n",
       "    }\n",
       "\n",
       "    .dataframe thead th {\n",
       "        text-align: right;\n",
       "    }\n",
       "</style>\n",
       "<table border=\"1\" class=\"dataframe\">\n",
       "  <thead>\n",
       "    <tr style=\"text-align: right;\">\n",
       "      <th></th>\n",
       "      <th>Inexpensive</th>\n",
       "      <th>Moderate</th>\n",
       "      <th>Pricey</th>\n",
       "      <th>High End</th>\n",
       "    </tr>\n",
       "  </thead>\n",
       "  <tbody>\n",
       "    <tr>\n",
       "      <th>businesses</th>\n",
       "      <td>[{'id': 'AU3_xCIS6aEPFPcUo8hclQ', 'alias': 'ch...</td>\n",
       "      <td>[{'id': 'RVbZaawgEGmto6TxOoVBdQ', 'alias': 'ru...</td>\n",
       "      <td>[{'id': 'fEY0zHaDMfIW3-N__joDKQ', 'alias': 'be...</td>\n",
       "      <td>[{'id': 'TzIJzamxdVGc3zReKbLGaA', 'alias': 'pr...</td>\n",
       "    </tr>\n",
       "    <tr>\n",
       "      <th>region</th>\n",
       "      <td>{'center': {'longitude': -118.32138061523438, ...</td>\n",
       "      <td>{'center': {'longitude': -118.32138061523438, ...</td>\n",
       "      <td>{'center': {'longitude': -118.32138061523438, ...</td>\n",
       "      <td>{'center': {'longitude': -118.32138061523438, ...</td>\n",
       "    </tr>\n",
       "    <tr>\n",
       "      <th>total</th>\n",
       "      <td>3200</td>\n",
       "      <td>3200</td>\n",
       "      <td>290</td>\n",
       "      <td>77</td>\n",
       "    </tr>\n",
       "  </tbody>\n",
       "</table>\n",
       "</div>"
      ],
      "text/plain": [
       "                                                  Inexpensive  \\\n",
       "businesses  [{'id': 'AU3_xCIS6aEPFPcUo8hclQ', 'alias': 'ch...   \n",
       "region      {'center': {'longitude': -118.32138061523438, ...   \n",
       "total                                                    3200   \n",
       "\n",
       "                                                     Moderate  \\\n",
       "businesses  [{'id': 'RVbZaawgEGmto6TxOoVBdQ', 'alias': 'ru...   \n",
       "region      {'center': {'longitude': -118.32138061523438, ...   \n",
       "total                                                    3200   \n",
       "\n",
       "                                                       Pricey  \\\n",
       "businesses  [{'id': 'fEY0zHaDMfIW3-N__joDKQ', 'alias': 'be...   \n",
       "region      {'center': {'longitude': -118.32138061523438, ...   \n",
       "total                                                     290   \n",
       "\n",
       "                                                     High End  \n",
       "businesses  [{'id': 'TzIJzamxdVGc3zReKbLGaA', 'alias': 'pr...  \n",
       "region      {'center': {'longitude': -118.32138061523438, ...  \n",
       "total                                                      77  "
      ]
     },
     "execution_count": 41,
     "metadata": {},
     "output_type": "execute_result"
    }
   ],
   "source": [
    "la_price_point_dict= ({\"Inexpensive\": la_search_1_results,\n",
    "                \"Moderate\": la_search_2_results,\n",
    "                \"Pricey\": la_search_3_results,\n",
    "                \"High End\": la_search_4_results   \n",
    "})\n",
    "\n",
    "la_price_data = pd.DataFrame(la_price_point_dict)\n",
    "la_price_data"
   ]
  },
  {
   "cell_type": "code",
   "execution_count": 42,
   "metadata": {},
   "outputs": [
    {
     "data": {
      "text/html": [
       "<div>\n",
       "<style scoped>\n",
       "    .dataframe tbody tr th:only-of-type {\n",
       "        vertical-align: middle;\n",
       "    }\n",
       "\n",
       "    .dataframe tbody tr th {\n",
       "        vertical-align: top;\n",
       "    }\n",
       "\n",
       "    .dataframe thead th {\n",
       "        text-align: right;\n",
       "    }\n",
       "</style>\n",
       "<table border=\"1\" class=\"dataframe\">\n",
       "  <thead>\n",
       "    <tr style=\"text-align: right;\">\n",
       "      <th></th>\n",
       "      <th>Inexpensive</th>\n",
       "      <th>Moderate</th>\n",
       "      <th>Pricey</th>\n",
       "      <th>High End</th>\n",
       "    </tr>\n",
       "  </thead>\n",
       "  <tbody>\n",
       "    <tr>\n",
       "      <th>total</th>\n",
       "      <td>3200</td>\n",
       "      <td>3200</td>\n",
       "      <td>290</td>\n",
       "      <td>77</td>\n",
       "    </tr>\n",
       "  </tbody>\n",
       "</table>\n",
       "</div>"
      ],
      "text/plain": [
       "      Inexpensive Moderate Pricey High End\n",
       "total        3200     3200    290       77"
      ]
     },
     "execution_count": 42,
     "metadata": {},
     "output_type": "execute_result"
    }
   ],
   "source": [
    "# Drop businesses & region from dataframe\n",
    "la_price_data.drop(['businesses', 'region'], inplace=True)\n",
    "la_price_data"
   ]
  },
  {
   "cell_type": "code",
   "execution_count": 44,
   "metadata": {},
   "outputs": [
    {
     "data": {
      "image/png": "[encoded data removed]",
      "text/plain": [
       "<Figure size 432x288 with 1 Axes>"
      ]
     },
     "metadata": {
      "needs_background": "light"
     },
     "output_type": "display_data"
    }
   ],
   "source": [
    "# Bar chart for pricing in Washington, DC\n",
    "la_price_height = la_price_data.values.flatten()\n",
    "la_price_x_range = range(len(la_price_point_dict))\n",
    "plt.bar(la_price_x_range, la_price_height, color='r', alpha=0.5, align='center')\n",
    "\n",
    "plt.title(\"Pricing in Los Angeles, CA\")\n",
    "plt.xlabel(\"Price Point\")\n",
    "plt.ylabel(\"Number of Restautants\")\n",
    "plt.xticks(la_price_x_range, la_price_point_dict.keys())\n",
    "plt.savefig('Pricing in LA')\n",
    "plt.show()"
   ]
  },
  {
   "cell_type": "code",
   "execution_count": 51,
   "metadata": {},
   "outputs": [],
   "source": [
    "# Check w/ the team b/c inexpensive & moderate are the same... "
   ]
  },
  {
   "cell_type": "code",
   "execution_count": null,
   "metadata": {},
   "outputs": [],
   "source": []
  }
 ],
 "metadata": {
  "kernelspec": {
   "display_name": "Python 3",
   "language": "python",
   "name": "python3"
  },
  "language_info": {
   "codemirror_mode": {
    "name": "ipython",
    "version": 3
   },
   "file_extension": ".py",
   "mimetype": "text/x-python",
   "name": "python",
   "nbconvert_exporter": "python",
   "pygments_lexer": "ipython3",
   "version": "3.6.8"
  }
 },
 "nbformat": 4,
 "nbformat_minor": 2
}
