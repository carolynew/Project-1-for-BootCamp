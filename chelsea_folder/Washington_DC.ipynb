{
 "cells": [
  {
   "cell_type": "code",
   "execution_count": 7,
   "metadata": {},
   "outputs": [
    {
     "name": "stdout",
     "output_type": "stream",
     "text": [
      "Requirement already satisfied: yelpapi in c:\\users\\clsch\\anaconda3\\envs\\pythondata\\lib\\site-packages (2.4.0)\n",
      "Requirement already satisfied: requests in c:\\users\\clsch\\anaconda3\\envs\\pythondata\\lib\\site-packages (from yelpapi) (2.22.0)\n",
      "Requirement already satisfied: urllib3!=1.25.0,!=1.25.1,<1.26,>=1.21.1 in c:\\users\\clsch\\anaconda3\\envs\\pythondata\\lib\\site-packages (from requests->yelpapi) (1.24.2)\n",
      "Requirement already satisfied: idna<2.9,>=2.5 in c:\\users\\clsch\\anaconda3\\envs\\pythondata\\lib\\site-packages (from requests->yelpapi) (2.8)\n",
      "Requirement already satisfied: chardet<3.1.0,>=3.0.2 in c:\\users\\clsch\\anaconda3\\envs\\pythondata\\lib\\site-packages (from requests->yelpapi) (3.0.4)\n",
      "Requirement already satisfied: certifi>=2017.4.17 in c:\\users\\clsch\\anaconda3\\envs\\pythondata\\lib\\site-packages (from requests->yelpapi) (2019.6.16)\n",
      "Note: you may need to restart the kernel to use updated packages.\n"
     ]
    }
   ],
   "source": [
    "pip install yelpapi"
   ]
  },
  {
   "cell_type": "code",
   "execution_count": 8,
   "metadata": {},
   "outputs": [
    {
     "data": {
      "text/plain": [
       "_StoreAction(option_strings=[], dest='d1rvGhfWij6SncPbQMlX9MtoaJQQLCqJmRsY8LhWe-xYgIP3lTUMMgjNNOqz-hWgtoNzxMAH_BPDZnqSOYinUSKm2ZdANU7CVOBwKrCDtEPVSawcoL-2SkQYSYFqXXYx', nargs=None, const=None, default=None, type=<class 'str'>, choices=None, help='Yelp Fusion API Key', metavar=None)"
      ]
     },
     "execution_count": 8,
     "metadata": {},
     "output_type": "execute_result"
    }
   ],
   "source": [
    "import csv\n",
    "import matplotlib.pyplot as plt \n",
    "import requests\n",
    "import json\n",
    "import pandas as pd \n",
    "from config import api_key\n",
    "from yelpapi import YelpAPI\n",
    "import argparse\n",
    "\n",
    "from pprint import pprint\n",
    "\n",
    "argparser = argparse.ArgumentParser(description='Example Yelp queries using yelpapi. Visit https://www.yelp.com/developers/v3/manage_app to get the necessary API keys.')\n",
    "argparser.add_argument(api_key, type=str, help='Yelp Fusion API Key')"
   ]
  },
  {
   "cell_type": "code",
   "execution_count": 10,
   "metadata": {},
   "outputs": [],
   "source": [
    "headers = {'Authorization': 'Bearer %s' % api_key}"
   ]
  },
  {
   "cell_type": "code",
   "execution_count": 17,
   "metadata": {},
   "outputs": [
    {
     "name": "stdout",
     "output_type": "stream",
     "text": [
      "****** 5 Best Rated Cuisines in Washington, DC ******\n",
      "\n",
      "1100\n",
      "455\n",
      "232\n",
      "1400\n",
      "361\n"
     ]
    }
   ],
   "source": [
    "yelp_api = YelpAPI(api_key)\n",
    "#printing top 5 best rated Mexican spots in Washington DC\n",
    "print(\"****** 5 Best Rated Cuisines in Washington, DC ******\\n\")\n",
    "#response = yelp_api.search_query(term='mexican', location='washington, dc', limit=5, sort_by='review_count')\n",
    "#pprint(response)\n",
    "#print('\\n-------------------------------------------------------------------------\\n')\n",
    "\n",
    "mexican_results = yelp_api.search_query(term='mexican', location='washington, dc', attributes='restaurant')\n",
    "pprint(mexican_results['total'])\n",
    "\n",
    "japanese_results = yelp_api.search_query(term='japanese', location='washington, dc', attributes='restaurant')\n",
    "pprint(japanese_results['total'])\n",
    "\n",
    "indian_results = yelp_api.search_query(term='indian', location='washington, dc', attributes='restaurant')\n",
    "pprint(indian_results['total'])\n",
    "\n",
    "italian_results = yelp_api.search_query(term='italian', location='washington, dc', attributes='restaurant')\n",
    "pprint(italian_results['total'])\n",
    "\n",
    "greek_results = yelp_api.search_query(term='greek', location='washington, dc', attributes='restaurant')\n",
    "pprint(greek_results['total'])"
   ]
  },
  {
   "cell_type": "code",
   "execution_count": 18,
   "metadata": {},
   "outputs": [
    {
     "data": {
      "text/html": [
       "<div>\n",
       "<style scoped>\n",
       "    .dataframe tbody tr th:only-of-type {\n",
       "        vertical-align: middle;\n",
       "    }\n",
       "\n",
       "    .dataframe tbody tr th {\n",
       "        vertical-align: top;\n",
       "    }\n",
       "\n",
       "    .dataframe thead th {\n",
       "        text-align: right;\n",
       "    }\n",
       "</style>\n",
       "<table border=\"1\" class=\"dataframe\">\n",
       "  <thead>\n",
       "    <tr style=\"text-align: right;\">\n",
       "      <th></th>\n",
       "      <th>Mexican</th>\n",
       "      <th>Japanese</th>\n",
       "      <th>Indian</th>\n",
       "      <th>Italian</th>\n",
       "      <th>Greek</th>\n",
       "    </tr>\n",
       "  </thead>\n",
       "  <tbody>\n",
       "    <tr>\n",
       "      <th>businesses</th>\n",
       "      <td>[{'id': '094fHChJkrJqztSFCn3ezA', 'alias': 'ta...</td>\n",
       "      <td>[{'id': 'wTz5b1FR8Af06LKjf9eTDQ', 'alias': 'da...</td>\n",
       "      <td>[{'id': 'n-6O6I7pmmpwkW2pCO-zDw', 'alias': 'in...</td>\n",
       "      <td>[{'id': 'U0tfep9yNBASTe2zAG6cPw', 'alias': 'fi...</td>\n",
       "      <td>[{'id': 'GBkFa8TJwkaUJsJXXGkTTg', 'alias': 'za...</td>\n",
       "    </tr>\n",
       "    <tr>\n",
       "      <th>region</th>\n",
       "      <td>{'center': {'longitude': -77.0306396484375, 'l...</td>\n",
       "      <td>{'center': {'longitude': -77.0306396484375, 'l...</td>\n",
       "      <td>{'center': {'longitude': -77.0306396484375, 'l...</td>\n",
       "      <td>{'center': {'longitude': -77.0306396484375, 'l...</td>\n",
       "      <td>{'center': {'longitude': -77.0306396484375, 'l...</td>\n",
       "    </tr>\n",
       "    <tr>\n",
       "      <th>total</th>\n",
       "      <td>1100</td>\n",
       "      <td>455</td>\n",
       "      <td>232</td>\n",
       "      <td>1400</td>\n",
       "      <td>361</td>\n",
       "    </tr>\n",
       "  </tbody>\n",
       "</table>\n",
       "</div>"
      ],
      "text/plain": [
       "                                                      Mexican  \\\n",
       "businesses  [{'id': '094fHChJkrJqztSFCn3ezA', 'alias': 'ta...   \n",
       "region      {'center': {'longitude': -77.0306396484375, 'l...   \n",
       "total                                                    1100   \n",
       "\n",
       "                                                     Japanese  \\\n",
       "businesses  [{'id': 'wTz5b1FR8Af06LKjf9eTDQ', 'alias': 'da...   \n",
       "region      {'center': {'longitude': -77.0306396484375, 'l...   \n",
       "total                                                     455   \n",
       "\n",
       "                                                       Indian  \\\n",
       "businesses  [{'id': 'n-6O6I7pmmpwkW2pCO-zDw', 'alias': 'in...   \n",
       "region      {'center': {'longitude': -77.0306396484375, 'l...   \n",
       "total                                                     232   \n",
       "\n",
       "                                                      Italian  \\\n",
       "businesses  [{'id': 'U0tfep9yNBASTe2zAG6cPw', 'alias': 'fi...   \n",
       "region      {'center': {'longitude': -77.0306396484375, 'l...   \n",
       "total                                                    1400   \n",
       "\n",
       "                                                        Greek  \n",
       "businesses  [{'id': 'GBkFa8TJwkaUJsJXXGkTTg', 'alias': 'za...  \n",
       "region      {'center': {'longitude': -77.0306396484375, 'l...  \n",
       "total                                                     361  "
      ]
     },
     "execution_count": 18,
     "metadata": {},
     "output_type": "execute_result"
    }
   ],
   "source": [
    "washington_dict= ({\"Mexican\": mexican_results,\n",
    "                \"Japanese\": japanese_results,\n",
    "                \"Indian\": indian_results,\n",
    "                \"Italian\": italian_results,\n",
    "                \"Greek\": greek_results    \n",
    "})\n",
    "\n",
    "washington_data = pd.DataFrame(washington_dict)\n",
    "\n",
    "washington_data"
   ]
  },
  {
   "cell_type": "code",
   "execution_count": 19,
   "metadata": {},
   "outputs": [
    {
     "data": {
      "text/html": [
       "<div>\n",
       "<style scoped>\n",
       "    .dataframe tbody tr th:only-of-type {\n",
       "        vertical-align: middle;\n",
       "    }\n",
       "\n",
       "    .dataframe tbody tr th {\n",
       "        vertical-align: top;\n",
       "    }\n",
       "\n",
       "    .dataframe thead th {\n",
       "        text-align: right;\n",
       "    }\n",
       "</style>\n",
       "<table border=\"1\" class=\"dataframe\">\n",
       "  <thead>\n",
       "    <tr style=\"text-align: right;\">\n",
       "      <th></th>\n",
       "      <th>Mexican</th>\n",
       "      <th>Japanese</th>\n",
       "      <th>Indian</th>\n",
       "      <th>Italian</th>\n",
       "      <th>Greek</th>\n",
       "    </tr>\n",
       "  </thead>\n",
       "  <tbody>\n",
       "    <tr>\n",
       "      <th>total</th>\n",
       "      <td>1100</td>\n",
       "      <td>455</td>\n",
       "      <td>232</td>\n",
       "      <td>1400</td>\n",
       "      <td>361</td>\n",
       "    </tr>\n",
       "  </tbody>\n",
       "</table>\n",
       "</div>"
      ],
      "text/plain": [
       "      Mexican Japanese Indian Italian Greek\n",
       "total    1100      455    232    1400   361"
      ]
     },
     "execution_count": 19,
     "metadata": {},
     "output_type": "execute_result"
    }
   ],
   "source": [
    "# Drop businesses & region from dataframe\n",
    "washington_data.drop(['businesses', 'region'], inplace=True)\n",
    "washington_data"
   ]
  },
  {
   "cell_type": "code",
   "execution_count": 16,
   "metadata": {},
   "outputs": [],
   "source": [
    "# Bar chart for BOTH Miami & Washington DC"
   ]
  },
  {
   "cell_type": "code",
   "execution_count": null,
   "metadata": {},
   "outputs": [],
   "source": [
    "#printing top 5 best rated Japanese spots in Washington DC\n",
    "#print(\"****** 5 Best Rated Japanese Restaurants in Washington, DC ******\\n\")\n",
    "#response = yelp_api.search_query(term='japanese', location='washington, dc', limit=5, sort_by='review_count')\n",
    "#pprint(response)\n",
    "#print('\\n-------------------------------------------------------------------------\\n')"
   ]
  },
  {
   "cell_type": "code",
   "execution_count": null,
   "metadata": {},
   "outputs": [],
   "source": [
    "#yelp_api = YelpAPI(api_key)\n",
    "# Search yelp library for \"Mexican restaurants\"\n",
    "#search_results = yelp_api.search_query(term='mexican', location='washington, dc', sort_by='rating', limit=5)\n",
    "#df = pd.DataFrame(search_results['businesses'])\n",
    "#df.head()"
   ]
  },
  {
   "cell_type": "code",
   "execution_count": 27,
   "metadata": {},
   "outputs": [],
   "source": [
    "#url='https://api.yelp.com/v3/businesses/search'\n",
    " \n",
    "# In the dictionary, term can take values like food, cafes or businesses like McDonalds\n",
    "#params = {'term':'restaurant','location':'Washington DC'}\n",
    "\n",
    "# Making a get request to the API\n",
    "#req=requests.get(url, params=params, headers=headers)\n",
    " \n",
    "# proceed only if the status code is 200\n",
    "#print('The status code is {}'.format(req.status_code))"
   ]
  },
  {
   "cell_type": "code",
   "execution_count": 28,
   "metadata": {},
   "outputs": [],
   "source": [
    "# printing the text from the response \n",
    "#sample = json.loads(req.text)"
   ]
  },
  {
   "cell_type": "code",
   "execution_count": 29,
   "metadata": {},
   "outputs": [],
   "source": [
    "#print(json.dumps(sample, indent=4))"
   ]
  }
 ],
 "metadata": {
  "kernelspec": {
   "display_name": "Python 3",
   "language": "python",
   "name": "python3"
  },
  "language_info": {
   "codemirror_mode": {
    "name": "ipython",
    "version": 3
   },
   "file_extension": ".py",
   "mimetype": "text/x-python",
   "name": "python",
   "nbconvert_exporter": "python",
   "pygments_lexer": "ipython3",
   "version": "3.6.8"
  }
 },
 "nbformat": 4,
 "nbformat_minor": 2
}
