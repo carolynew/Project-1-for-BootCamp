{
 "cells": [
  {
   "cell_type": "code",
   "execution_count": 1,
   "metadata": {},
   "outputs": [],
   "source": [
    "#Dependencies\n",
    "import matplotlib.pyplot as plt\n",
    "import pandas as pd\n",
    "import gmaps\n",
    "import requests\n",
    "from config import api_key\n",
    "import json\n",
    "from yelp.client import Client"
   ]
  },
  {
   "cell_type": "code",
   "execution_count": 2,
   "metadata": {},
   "outputs": [],
   "source": [
    "\n",
    "client = Client(api_key)"
   ]
  },
  {
   "cell_type": "code",
   "execution_count": 3,
   "metadata": {},
   "outputs": [],
   "source": [
    "# Use /businesses/search \n",
    "\n",
    "#key data points:\n",
    "#term = \"restaurants\"\n",
    "#location = \"Los Angeles\"\n",
    "#categories - for capturing cuisine type\n",
    "#price - price level \n",
    "#review_count - total number of reviews\n",
    "#\"rating\" - rating stars\n",
    "#location.zip_code - use this to do location??"
   ]
  },
  {
   "cell_type": "code",
   "execution_count": 12,
   "metadata": {},
   "outputs": [],
   "source": [
    "\n",
    "url = \"https://api.yelp.com/v3/businesses/search?\"\n",
    "query = url + \"appid=\" + api_key + \"&q=\"\n",
    "\n",
    "response = requests.get(f\"{query}&term=restauarant\").json()\n",
    "# response_json = response.json()\n",
    "print(json.dumps(response, indent=4, sort_keys=True))\n",
    "\n",
    "#set parameters\n",
    "\n",
    "# term=restauarant\n",
    "# location=Los Angeles\n",
    "\n",
    "\n",
    "\n",
    "#How are we going to get around the 1000 limit?\n"
   ]
  },
  {
   "cell_type": "code",
   "execution_count": null,
   "metadata": {},
   "outputs": [],
   "source": [
    "#Most popular food types in LA - are we going to narrow this down or go for all?\n",
    "\n",
    "\n"
   ]
  },
  {
   "cell_type": "code",
   "execution_count": null,
   "metadata": {},
   "outputs": [],
   "source": [
    "#Price vs location - do we want to do this as a count of price buckets?\n",
    "\n",
    "#collect LA restaurant count, price and zip\n",
    "#use \n"
   ]
  },
  {
   "cell_type": "code",
   "execution_count": null,
   "metadata": {},
   "outputs": [],
   "source": [
    "#Location vs reviews - use zip and buckets for ratings?\n",
    "\n",
    "#get star count for restaurants and zip\n",
    "\n"
   ]
  },
  {
   "cell_type": "code",
   "execution_count": null,
   "metadata": {},
   "outputs": [],
   "source": [
    "#Delivery options vs location\n",
    "#Collect total number of restaurants in all 4 cities\n",
    "\n",
    "#Collect number of restaurants where:\n",
    "#businesses[x].transactions = delivery\n",
    "\n",
    "#create data frame to hold summary numbers\n",
    "#graph with bar chart\n",
    "#df.plot(kind=\"bar\")\n",
    "#set x axis equal to city name"
   ]
  }
 ],
 "metadata": {
  "kernelspec": {
   "display_name": "Python 3",
   "language": "python",
   "name": "python3"
  },
  "language_info": {
   "codemirror_mode": {
    "name": "ipython",
    "version": 3
   },
   "file_extension": ".py",
   "mimetype": "text/x-python",
   "name": "python",
   "nbconvert_exporter": "python",
   "pygments_lexer": "ipython3",
   "version": "3.6.8"
  }
 },
 "nbformat": 4,
 "nbformat_minor": 2
}
