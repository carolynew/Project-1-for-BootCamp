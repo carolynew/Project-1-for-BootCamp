{
 "cells": [
  {
   "cell_type": "code",
   "execution_count": 2,
   "metadata": {},
   "outputs": [
    {
     "data": {
      "text/plain": [
       "_StoreAction(option_strings=[], dest='VpAqdsRiA4HvlGHzH0toLKhZZSQL2An4bkyl1sK6g2Hn-KScAF1xxAKb3wkFfxrioeKYvFRY5RtMBeEt3hngOhFIQTvPOgzrotLLzkAGAk6X3GtlVSxIL31Ov5NmXXYx', nargs=None, const=None, default=None, type=<class 'str'>, choices=None, help='Yelp Fusion API Key', metavar=None)"
      ]
     },
     "execution_count": 2,
     "metadata": {},
     "output_type": "execute_result"
    }
   ],
   "source": [
    "import csv\n",
    "import matplotlib.pyplot as plt \n",
    "import requests\n",
    "import json\n",
    "import pandas as pd \n",
    "from config import api_key\n",
    "from yelpapi import YelpAPI\n",
    "import argparse\n",
    "\n",
    "from pprint import pprint\n",
    "\n",
    "argparser = argparse.ArgumentParser(description='Example Yelp queries using yelpapi. Visit https://www.yelp.com/developers/v3/manage_app to get the necessary API keys.')\n",
    "argparser.add_argument(api_key, type=str, help='Yelp Fusion API Key')"
   ]
  },
  {
   "cell_type": "code",
   "execution_count": 3,
   "metadata": {},
   "outputs": [],
   "source": [
    "headers = {'Authorization': 'Bearer %s' % api_key}"
   ]
  },
  {
   "cell_type": "code",
   "execution_count": 4,
   "metadata": {},
   "outputs": [],
   "source": [
    "yelp_api = YelpAPI(api_key)\n",
    "#search yelp library for Inexpensive Restaurants ($)\n",
    "la_search_1_results = yelp_api.search_query(term='restaurants', location='los angeles, ca', price=1)\n",
    "#pprint (search_1_results['total'])\n",
    "\n",
    "#search yelp library for Moderate Restaurants ($$)\n",
    "la_search_2_results = yelp_api.search_query(term='restaurants', location='los angeles, ca', price=2)\n",
    "#pprint (search_2_results['total'])\n",
    "\n",
    "#search yelp library for Pricey Restaurants ($$$)\n",
    "la_search_3_results = yelp_api.search_query(term='restaurants', location='los angeles, ca', price=3)\n",
    "#pprint (search_3_results['total'])\n",
    "\n",
    "#search yelp library for Ultra High-End ($$$$)\n",
    "la_search_4_results = yelp_api.search_query(term='restaurants', location='los angeles, ca', price=4)\n",
    "#pprint (search_4_results['total'])\n",
    "\n",
    "#DataFrame for results\n"
   ]
  },
  {
   "cell_type": "code",
   "execution_count": 5,
   "metadata": {},
   "outputs": [],
   "source": [
    "# Drop businesses & region from dataframe"
   ]
  },
  {
   "cell_type": "code",
   "execution_count": 6,
   "metadata": {},
   "outputs": [
    {
     "name": "stdout",
     "output_type": "stream",
     "text": [
      "2300\n",
      "1400\n",
      "913\n",
      "1500\n"
     ]
    }
   ],
   "source": [
    "#Request to pull the number of Wheelchair accessible restaurants from each city\n",
    "yelp_api = YelpAPI(api_key)\n",
    "\n",
    "#Wheelchair accessible restaurants in LA\n",
    "wc_la_results = yelp_api.search_query(term='restaurants', location='los angeles, ca', attributes=\"wheelchair_accessible\")\n",
    "pprint(wc_la_results['total'])\n",
    "\n",
    "#Wheelchair accessible restaurants in DC\n",
    "wc_dc_results = yelp_api.search_query(term='restaurants', location='washington, dc', attributes=\"wheelchair_accessible\")\n",
    "pprint(wc_dc_results['total'])\n",
    "\n",
    "#Wheelchair accessible restaurants in Miami\n",
    "wc_mia_results = yelp_api.search_query(term='restaurants', location='miami, fl', attributes=\"wheelchair_accessible\")\n",
    "pprint(wc_mia_results['total'])\n",
    "\n",
    "#Wheelchair accessible restaurants in Chicago\n",
    "wc_chi_results = yelp_api.search_query(term='restaurants', location='chicago, il', attributes=\"wheelchair_accessible\")\n",
    "pprint(wc_chi_results['total'])"
   ]
  },
  {
   "cell_type": "code",
   "execution_count": 7,
   "metadata": {},
   "outputs": [
    {
     "data": {
      "text/html": [
       "<div>\n",
       "<style scoped>\n",
       "    .dataframe tbody tr th:only-of-type {\n",
       "        vertical-align: middle;\n",
       "    }\n",
       "\n",
       "    .dataframe tbody tr th {\n",
       "        vertical-align: top;\n",
       "    }\n",
       "\n",
       "    .dataframe thead th {\n",
       "        text-align: right;\n",
       "    }\n",
       "</style>\n",
       "<table border=\"1\" class=\"dataframe\">\n",
       "  <thead>\n",
       "    <tr style=\"text-align: right;\">\n",
       "      <th></th>\n",
       "      <th>Los Angeles</th>\n",
       "      <th>DC</th>\n",
       "      <th>Miami</th>\n",
       "      <th>Chicago</th>\n",
       "    </tr>\n",
       "  </thead>\n",
       "  <tbody>\n",
       "    <tr>\n",
       "      <th>businesses</th>\n",
       "      <td>[{'id': 'RVbZaawgEGmto6TxOoVBdQ', 'alias': 'ru...</td>\n",
       "      <td>[{'id': 'VA8aPObRynlwR1TGzbzraQ', 'alias': 'fo...</td>\n",
       "      <td>[{'id': 'UXHxLN3DcDGI57uDIfCuJA', 'alias': 'ol...</td>\n",
       "      <td>[{'id': 'zm6Peew9j8YtowzUu4sQfA', 'alias': 'th...</td>\n",
       "    </tr>\n",
       "    <tr>\n",
       "      <th>region</th>\n",
       "      <td>{'center': {'longitude': -118.32138061523438, ...</td>\n",
       "      <td>{'center': {'longitude': -77.0306396484375, 'l...</td>\n",
       "      <td>{'center': {'longitude': -80.2880859375, 'lati...</td>\n",
       "      <td>{'center': {'longitude': -87.67776489257812, '...</td>\n",
       "    </tr>\n",
       "    <tr>\n",
       "      <th>total</th>\n",
       "      <td>2300</td>\n",
       "      <td>1400</td>\n",
       "      <td>913</td>\n",
       "      <td>1500</td>\n",
       "    </tr>\n",
       "  </tbody>\n",
       "</table>\n",
       "</div>"
      ],
      "text/plain": [
       "                                                  Los Angeles  \\\n",
       "businesses  [{'id': 'RVbZaawgEGmto6TxOoVBdQ', 'alias': 'ru...   \n",
       "region      {'center': {'longitude': -118.32138061523438, ...   \n",
       "total                                                    2300   \n",
       "\n",
       "                                                           DC  \\\n",
       "businesses  [{'id': 'VA8aPObRynlwR1TGzbzraQ', 'alias': 'fo...   \n",
       "region      {'center': {'longitude': -77.0306396484375, 'l...   \n",
       "total                                                    1400   \n",
       "\n",
       "                                                        Miami  \\\n",
       "businesses  [{'id': 'UXHxLN3DcDGI57uDIfCuJA', 'alias': 'ol...   \n",
       "region      {'center': {'longitude': -80.2880859375, 'lati...   \n",
       "total                                                     913   \n",
       "\n",
       "                                                      Chicago  \n",
       "businesses  [{'id': 'zm6Peew9j8YtowzUu4sQfA', 'alias': 'th...  \n",
       "region      {'center': {'longitude': -87.67776489257812, '...  \n",
       "total                                                    1500  "
      ]
     },
     "execution_count": 7,
     "metadata": {},
     "output_type": "execute_result"
    }
   ],
   "source": [
    "#Create DataFrame to hold results\n",
    "access_dict= ({\"Los Angeles\": wc_la_results,\n",
    "                \"DC\": wc_dc_results,\n",
    "                \"Miami\": wc_mia_results,\n",
    "                \"Chicago\": wc_chi_results  \n",
    "})\n",
    "\n",
    "access_data = pd.DataFrame(access_dict)\n",
    "access_data"
   ]
  },
  {
   "cell_type": "code",
   "execution_count": 8,
   "metadata": {},
   "outputs": [
    {
     "data": {
      "text/html": [
       "<div>\n",
       "<style scoped>\n",
       "    .dataframe tbody tr th:only-of-type {\n",
       "        vertical-align: middle;\n",
       "    }\n",
       "\n",
       "    .dataframe tbody tr th {\n",
       "        vertical-align: top;\n",
       "    }\n",
       "\n",
       "    .dataframe thead th {\n",
       "        text-align: right;\n",
       "    }\n",
       "</style>\n",
       "<table border=\"1\" class=\"dataframe\">\n",
       "  <thead>\n",
       "    <tr style=\"text-align: right;\">\n",
       "      <th></th>\n",
       "      <th>Los Angeles</th>\n",
       "      <th>DC</th>\n",
       "      <th>Miami</th>\n",
       "      <th>Chicago</th>\n",
       "    </tr>\n",
       "  </thead>\n",
       "  <tbody>\n",
       "    <tr>\n",
       "      <th>total</th>\n",
       "      <td>2300</td>\n",
       "      <td>1400</td>\n",
       "      <td>913</td>\n",
       "      <td>1500</td>\n",
       "    </tr>\n",
       "  </tbody>\n",
       "</table>\n",
       "</div>"
      ],
      "text/plain": [
       "      Los Angeles    DC Miami Chicago\n",
       "total        2300  1400   913    1500"
      ]
     },
     "execution_count": 8,
     "metadata": {},
     "output_type": "execute_result"
    }
   ],
   "source": [
    "# Drop businesses & region from dataframe\n",
    "access_data.drop(['businesses', 'region'], inplace=True)\n",
    "access_data"
   ]
  },
  {
   "cell_type": "code",
   "execution_count": 9,
   "metadata": {},
   "outputs": [
    {
     "name": "stdout",
     "output_type": "stream",
     "text": [
      "8300\n",
      "6800\n",
      "3300\n",
      "5900\n"
     ]
    }
   ],
   "source": [
    "#Request to pull total number of restaurants from each city\n",
    "yelp_api = YelpAPI(api_key)\n",
    "\n",
    "#Total number of restaurants in LA\n",
    "la_total = yelp_api.search_query(term='restaurants', location='los angeles, ca')\n",
    "pprint (la_total['total'])\n",
    "\n",
    "#Total number of restaurants in DC\n",
    "dc_total = yelp_api.search_query(term='restaurants', location='washington, dc')\n",
    "pprint (dc_total['total'])\n",
    "\n",
    "#Total number of restaurants in Miami\n",
    "mia_total = yelp_api.search_query(term='restaurants', location='miami, fl')\n",
    "pprint (mia_total['total'])\n",
    "\n",
    "#Total number of restaurants in Chicago\n",
    "chi_total = yelp_api.search_query(term='restaurants', location='chicago, il')\n",
    "pprint (chi_total['total'])"
   ]
  },
  {
   "cell_type": "code",
   "execution_count": 10,
   "metadata": {},
   "outputs": [
    {
     "data": {
      "text/html": [
       "<div>\n",
       "<style scoped>\n",
       "    .dataframe tbody tr th:only-of-type {\n",
       "        vertical-align: middle;\n",
       "    }\n",
       "\n",
       "    .dataframe tbody tr th {\n",
       "        vertical-align: top;\n",
       "    }\n",
       "\n",
       "    .dataframe thead th {\n",
       "        text-align: right;\n",
       "    }\n",
       "</style>\n",
       "<table border=\"1\" class=\"dataframe\">\n",
       "  <thead>\n",
       "    <tr style=\"text-align: right;\">\n",
       "      <th></th>\n",
       "      <th>Los Angeles</th>\n",
       "      <th>DC</th>\n",
       "      <th>Miami</th>\n",
       "      <th>Chicago</th>\n",
       "    </tr>\n",
       "  </thead>\n",
       "  <tbody>\n",
       "    <tr>\n",
       "      <th>businesses</th>\n",
       "      <td>[{'id': 'RVbZaawgEGmto6TxOoVBdQ', 'alias': 'ru...</td>\n",
       "      <td>[{'id': 'VA8aPObRynlwR1TGzbzraQ', 'alias': 'fo...</td>\n",
       "      <td>[{'id': 'UXHxLN3DcDGI57uDIfCuJA', 'alias': 'ol...</td>\n",
       "      <td>[{'id': 'zm6Peew9j8YtowzUu4sQfA', 'alias': 'th...</td>\n",
       "    </tr>\n",
       "    <tr>\n",
       "      <th>region</th>\n",
       "      <td>{'center': {'longitude': -118.32138061523438, ...</td>\n",
       "      <td>{'center': {'longitude': -77.0306396484375, 'l...</td>\n",
       "      <td>{'center': {'longitude': -80.2880859375, 'lati...</td>\n",
       "      <td>{'center': {'longitude': -87.67776489257812, '...</td>\n",
       "    </tr>\n",
       "    <tr>\n",
       "      <th>total</th>\n",
       "      <td>8300</td>\n",
       "      <td>6800</td>\n",
       "      <td>3300</td>\n",
       "      <td>5900</td>\n",
       "    </tr>\n",
       "  </tbody>\n",
       "</table>\n",
       "</div>"
      ],
      "text/plain": [
       "                                                  Los Angeles  \\\n",
       "businesses  [{'id': 'RVbZaawgEGmto6TxOoVBdQ', 'alias': 'ru...   \n",
       "region      {'center': {'longitude': -118.32138061523438, ...   \n",
       "total                                                    8300   \n",
       "\n",
       "                                                           DC  \\\n",
       "businesses  [{'id': 'VA8aPObRynlwR1TGzbzraQ', 'alias': 'fo...   \n",
       "region      {'center': {'longitude': -77.0306396484375, 'l...   \n",
       "total                                                    6800   \n",
       "\n",
       "                                                        Miami  \\\n",
       "businesses  [{'id': 'UXHxLN3DcDGI57uDIfCuJA', 'alias': 'ol...   \n",
       "region      {'center': {'longitude': -80.2880859375, 'lati...   \n",
       "total                                                    3300   \n",
       "\n",
       "                                                      Chicago  \n",
       "businesses  [{'id': 'zm6Peew9j8YtowzUu4sQfA', 'alias': 'th...  \n",
       "region      {'center': {'longitude': -87.67776489257812, '...  \n",
       "total                                                    5900  "
      ]
     },
     "execution_count": 10,
     "metadata": {},
     "output_type": "execute_result"
    }
   ],
   "source": [
    "#Create DataFrame to hold results\n",
    "total_dict= ({\"Los Angeles\": la_total,\n",
    "                \"DC\": dc_total,\n",
    "                \"Miami\": mia_total,\n",
    "                \"Chicago\": chi_total  \n",
    "})\n",
    "\n",
    "total_data = pd.DataFrame(total_dict)\n",
    "total_data"
   ]
  },
  {
   "cell_type": "code",
   "execution_count": 11,
   "metadata": {},
   "outputs": [
    {
     "data": {
      "text/html": [
       "<div>\n",
       "<style scoped>\n",
       "    .dataframe tbody tr th:only-of-type {\n",
       "        vertical-align: middle;\n",
       "    }\n",
       "\n",
       "    .dataframe tbody tr th {\n",
       "        vertical-align: top;\n",
       "    }\n",
       "\n",
       "    .dataframe thead th {\n",
       "        text-align: right;\n",
       "    }\n",
       "</style>\n",
       "<table border=\"1\" class=\"dataframe\">\n",
       "  <thead>\n",
       "    <tr style=\"text-align: right;\">\n",
       "      <th></th>\n",
       "      <th>Los Angeles</th>\n",
       "      <th>DC</th>\n",
       "      <th>Miami</th>\n",
       "      <th>Chicago</th>\n",
       "    </tr>\n",
       "  </thead>\n",
       "  <tbody>\n",
       "    <tr>\n",
       "      <th>total</th>\n",
       "      <td>8300</td>\n",
       "      <td>6800</td>\n",
       "      <td>3300</td>\n",
       "      <td>5900</td>\n",
       "    </tr>\n",
       "  </tbody>\n",
       "</table>\n",
       "</div>"
      ],
      "text/plain": [
       "      Los Angeles    DC Miami Chicago\n",
       "total        8300  6800  3300    5900"
      ]
     },
     "execution_count": 11,
     "metadata": {},
     "output_type": "execute_result"
    }
   ],
   "source": [
    "# Drop businesses & region from dataframe\n",
    "total_data.drop(['businesses', 'region'], inplace=True)\n",
    "total_data"
   ]
  },
  {
   "cell_type": "code",
   "execution_count": null,
   "metadata": {},
   "outputs": [],
   "source": []
  },
  {
   "cell_type": "code",
   "execution_count": null,
   "metadata": {},
   "outputs": [],
   "source": []
  },
  {
   "cell_type": "code",
   "execution_count": 13,
   "metadata": {},
   "outputs": [
    {
     "name": "stdout",
     "output_type": "stream",
     "text": [
      "https://api.yelp.com/v3/businesses/VpAqdsRiA4HvlGHzH0toLKhZZSQL2An4bkyl1sK6g2Hn-KScAF1xxAKb3wkFfxrioeKYvFRY5RtMBeEt3hngOhFIQTvPOgzrotLLzkAGAk6X3GtlVSxIL31Ov5NmXXYx\n"
     ]
    }
   ],
   "source": [
    "print(url)"
   ]
  }
 ],
 "metadata": {
  "kernelspec": {
   "display_name": "Python 3",
   "language": "python",
   "name": "python3"
  },
  "language_info": {
   "codemirror_mode": {
    "name": "ipython",
    "version": 3
   },
   "file_extension": ".py",
   "mimetype": "text/x-python",
   "name": "python",
   "nbconvert_exporter": "python",
   "pygments_lexer": "ipython3",
   "version": "3.6.8"
  }
 },
 "nbformat": 4,
 "nbformat_minor": 2
}
