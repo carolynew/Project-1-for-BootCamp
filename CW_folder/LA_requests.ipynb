{
 "cells": [
  {
   "cell_type": "code",
   "execution_count": 12,
   "metadata": {},
   "outputs": [
    {
     "data": {
      "text/plain": [
       "_StoreAction(option_strings=[], dest='VpAqdsRiA4HvlGHzH0toLKhZZSQL2An4bkyl1sK6g2Hn-KScAF1xxAKb3wkFfxrioeKYvFRY5RtMBeEt3hngOhFIQTvPOgzrotLLzkAGAk6X3GtlVSxIL31Ov5NmXXYx', nargs=None, const=None, default=None, type=<class 'str'>, choices=None, help='Yelp Fusion API Key', metavar=None)"
      ]
     },
     "execution_count": 12,
     "metadata": {},
     "output_type": "execute_result"
    }
   ],
   "source": [
    "import csv\n",
    "import matplotlib.pyplot as plt \n",
    "import requests\n",
    "import json\n",
    "import pandas as pd \n",
    "from config import api_key\n",
    "from yelpapi import YelpAPI\n",
    "import argparse\n",
    "\n",
    "from pprint import pprint\n",
    "\n",
    "argparser = argparse.ArgumentParser(description='Example Yelp queries using yelpapi. Visit https://www.yelp.com/developers/v3/manage_app to get the necessary API keys.')\n",
    "argparser.add_argument(api_key, type=str, help='Yelp Fusion API Key')"
   ]
  },
  {
   "cell_type": "code",
   "execution_count": 13,
   "metadata": {},
   "outputs": [],
   "source": [
    "headers = {'Authorization': 'Bearer %s' % api_key}"
   ]
  },
  {
   "cell_type": "code",
   "execution_count": 14,
   "metadata": {},
   "outputs": [
    {
     "ename": "SyntaxError",
     "evalue": "invalid syntax (<ipython-input-14-255b8c537cbd>, line 19)",
     "output_type": "error",
     "traceback": [
      "\u001b[0;36m  File \u001b[0;32m\"<ipython-input-14-255b8c537cbd>\"\u001b[0;36m, line \u001b[0;32m19\u001b[0m\n\u001b[0;31m    df.head()\u001b[0m\n\u001b[0m     ^\u001b[0m\n\u001b[0;31mSyntaxError\u001b[0m\u001b[0;31m:\u001b[0m invalid syntax\n"
     ]
    }
   ],
   "source": [
    "yelp_api = YelpAPI(api_key)\n",
    "#search yelp library for Inexpensive Restaurants ($)\n",
    "search_1_results = yelp_api.search_query(term='restaurants', location='los angeles, ca', price=1)\n",
    "#pprint (search_1_results['total'])\n",
    "\n",
    "#search yelp library for Moderate Restaurants ($$)\n",
    "search_2_results = yelp_api.search_query(term='restaurants', location='los angeles, ca', price=2)\n",
    "#pprint (search_2_results['total'])\n",
    "\n",
    "#search yelp library for Pricey Restaurants ($$$)\n",
    "search_3_results = yelp_api.search_query(term='restaurants', location='los angeles, ca', price=3)\n",
    "#pprint (search_3_results['total'])\n",
    "\n",
    "#search yelp library for Ultra High-End ($$$$)\n",
    "search_4_results = yelp_api.search_query(term='restaurants', location='los angeles, ca', price=4)\n",
    "#pprint (search_4_results['total'])\n",
    "\n",
    "#IN PROGRESS - DataFrame for results\n",
    "df = pd.DataFrame({\"Inexpensive\": (search_1_results['total'])}, \n",
    "df.head()"
   ]
  },
  {
   "cell_type": "code",
   "execution_count": 7,
   "metadata": {},
   "outputs": [
    {
     "name": "stdout",
     "output_type": "stream",
     "text": [
      "2300\n",
      "1400\n",
      "907\n",
      "1500\n"
     ]
    }
   ],
   "source": [
    "yelp_api = YelpAPI(api_key)\n",
    "#Search for Wheelchair accessible restaurants in LA\n",
    "wc_la_results = yelp_api.search_query(term='restaurants', location='los angeles, ca', attributes=\"wheelchair_accessible\")\n",
    "pprint(wc_la_results['total'])\n",
    "\n",
    "#Search for Wheelchair accessible restaurants in DC\n",
    "wc_dc_results = yelp_api.search_query(term='restaurants', location='washington, dc', attributes=\"wheelchair_accessible\")\n",
    "pprint(wc_dc_results['total'])\n",
    "\n",
    "#Search for Wheelchair accessible restaurants in Miami\n",
    "wc_mia_results = yelp_api.search_query(term='restaurants', location='miami, fl', attributes=\"wheelchair_accessible\")\n",
    "pprint(wc_mia_results['total'])\n",
    "\n",
    "#Search for Wheelchair accessible restaurants in Chicago\n",
    "wc_chi_results = yelp_api.search_query(term='restaurants', location='chicago, il', attributes=\"wheelchair_accessible\")\n",
    "pprint(wc_chi_results['total'])"
   ]
  },
  {
   "cell_type": "code",
   "execution_count": 10,
   "metadata": {},
   "outputs": [
    {
     "name": "stdout",
     "output_type": "stream",
     "text": [
      "5900\n",
      "8200\n",
      "3300\n",
      "6800\n"
     ]
    }
   ],
   "source": [
    "chi_results = yelp_api.search_query(term='restaurants', location='chicago, il')\n",
    "pprint (chi_results['total'])\n",
    "\n",
    "la_results = yelp_api.search_query(term='restaurants', location='los angeles, ca')\n",
    "pprint (la_results['total'])\n",
    "\n",
    "mia_results = yelp_api.search_query(term='restaurants', location='miami, fl')\n",
    "pprint (mia_results['total'])\n",
    "\n",
    "dc_results = yelp_api.search_query(term='restaurants', location='washington, dc')\n",
    "pprint (dc_results['total'])"
   ]
  },
  {
   "cell_type": "code",
   "execution_count": 12,
   "metadata": {},
   "outputs": [
    {
     "data": {
      "text/plain": [
       "Restaurant    0\n",
       "Price         0\n",
       "Rating        0\n",
       "dtype: int64"
      ]
     },
     "execution_count": 12,
     "metadata": {},
     "output_type": "execute_result"
    }
   ],
   "source": [
    "la_dict = {\n",
    "    \"Restaurant\": name,\n",
    "    \"Price\":price, \n",
    "    \"Rating\":rating\n",
    "}\n",
    "\n",
    "# Create a data frame from the dictionary you created above\n",
    "la_data = pd.DataFrame(la_dict)\n",
    "\n",
    "# Display the count\n",
    "la_data.count()"
   ]
  },
  {
   "cell_type": "code",
   "execution_count": 13,
   "metadata": {},
   "outputs": [
    {
     "name": "stdout",
     "output_type": "stream",
     "text": [
      "https://api.yelp.com/v3/businesses/VpAqdsRiA4HvlGHzH0toLKhZZSQL2An4bkyl1sK6g2Hn-KScAF1xxAKb3wkFfxrioeKYvFRY5RtMBeEt3hngOhFIQTvPOgzrotLLzkAGAk6X3GtlVSxIL31Ov5NmXXYx\n"
     ]
    }
   ],
   "source": [
    "print(url)"
   ]
  },
  {
   "cell_type": "code",
   "execution_count": null,
   "metadata": {},
   "outputs": [],
   "source": []
  }
 ],
 "metadata": {
  "kernelspec": {
   "display_name": "Python 3",
   "language": "python",
   "name": "python3"
  },
  "language_info": {
   "codemirror_mode": {
    "name": "ipython",
    "version": 3
   },
   "file_extension": ".py",
   "mimetype": "text/x-python",
   "name": "python",
   "nbconvert_exporter": "python",
   "pygments_lexer": "ipython3",
   "version": "3.6.8"
  }
 },
 "nbformat": 4,
 "nbformat_minor": 2
}
