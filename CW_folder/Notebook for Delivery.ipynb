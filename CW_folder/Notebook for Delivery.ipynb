{
 "cells": [
  {
   "cell_type": "code",
   "execution_count": 2,
   "metadata": {},
   "outputs": [
    {
     "data": {
      "text/plain": [
       "_StoreAction(option_strings=[], dest='VpAqdsRiA4HvlGHzH0toLKhZZSQL2An4bkyl1sK6g2Hn-KScAF1xxAKb3wkFfxrioeKYvFRY5RtMBeEt3hngOhFIQTvPOgzrotLLzkAGAk6X3GtlVSxIL31Ov5NmXXYx', nargs=None, const=None, default=None, type=<class 'str'>, choices=None, help='Yelp Fusion API Key', metavar=None)"
      ]
     },
     "execution_count": 2,
     "metadata": {},
     "output_type": "execute_result"
    }
   ],
   "source": [
    "import csv\n",
    "import matplotlib.pyplot as plt \n",
    "import requests\n",
    "import json\n",
    "import pandas as pd \n",
    "from config import api_key\n",
    "from yelpapi import YelpAPI\n",
    "import argparse\n",
    "\n",
    "from pprint import pprint\n",
    "\n",
    "argparser = argparse.ArgumentParser(description='Example Yelp queries using yelpapi. Visit https://www.yelp.com/developers/v3/manage_app to get the necessary API keys.')\n",
    "argparser.add_argument(api_key, type=str, help='Yelp Fusion API Key')"
   ]
  },
  {
   "cell_type": "code",
   "execution_count": 3,
   "metadata": {},
   "outputs": [],
   "source": [
    "headers = {'Authorization': 'Bearer %s' % api_key}"
   ]
  },
  {
   "cell_type": "code",
   "execution_count": 4,
   "metadata": {},
   "outputs": [],
   "source": [
    "yelp_api = YelpAPI(api_key)"
   ]
  },
  {
   "cell_type": "code",
   "execution_count": 7,
   "metadata": {},
   "outputs": [
    {
     "name": "stdout",
     "output_type": "stream",
     "text": [
      "44\n",
      "51\n",
      "69\n"
     ]
    }
   ],
   "source": [
    "#restaurants in LA supporting delivery\n",
    "la_response = yelp_api.transaction_search_query(transaction_type='delivery', location='los angeles, ca')\n",
    "pprint(la_response['total'])\n",
    "\n",
    "#restaurants in Miami supporting delivery\n",
    "mia_response = yelp_api.transaction_search_query(transaction_type='delivery', location='miami, fl')\n",
    "pprint(mia_response['total'])\n",
    "\n",
    "#restaurants in DC supporting delivery\n",
    "dc_response = yelp_api.transaction_search_query(transaction_type='delivery', location='washington, dc')\n",
    "pprint(dc_response['total'])\n"
   ]
  },
  {
   "cell_type": "code",
   "execution_count": 11,
   "metadata": {},
   "outputs": [
    {
     "name": "stdout",
     "output_type": "stream",
     "text": [
      "Beginning Data Retrieval\n",
      "-------------------------------\n"
     ]
    }
   ],
   "source": [
    "cities = []\n",
    "api_key = api_key\n",
    "\n",
    "# start url\n",
    "url = \"https://api.yelp.com/v3/businesses/\" + api_key\n",
    "\n",
    "# create lists to append the data to\n",
    "name = []\n",
    "price = []\n",
    "rating = []\n",
    "\n",
    "# Start the call counter \n",
    "record = 1\n",
    "\n",
    "# print\n",
    "print(f\"Beginning Data Retrieval\")\n",
    "print(f\"-------------------------------\")\n",
    "\n",
    "#Loop through the cities\n",
    "for restaurant in cities:  \n",
    "    \n",
    "    try: \n",
    "        response = requests.get(f\"{url}&q={restaurant}\").json() \n",
    "        name.append(response[\"name\"])\n",
    "        price.append(response[\"price\"])\n",
    "        rating.append(response[\"rating\"])\n",
    "        \n",
    "        restaurant_record = response[\"name\"]\n",
    "        \n",
    "        print(f\"Processing Record {record} | {restaurant_record}\")\n",
    "        print(f\"{restaurant}\")\n",
    "        \n",
    "        # Increase counter by one \n",
    "        record= record + 1\n",
    "\n",
    "        \n",
    "    # skip if you cant find the city\n",
    "    except:\n",
    "        print(\"City not found. Skipping...\")\n",
    "    continue"
   ]
  },
  {
   "cell_type": "code",
   "execution_count": 12,
   "metadata": {},
   "outputs": [
    {
     "data": {
      "text/plain": [
       "Restaurant    0\n",
       "Price         0\n",
       "Rating        0\n",
       "dtype: int64"
      ]
     },
     "execution_count": 12,
     "metadata": {},
     "output_type": "execute_result"
    }
   ],
   "source": [
    "la_dict = {\n",
    "    \"Restaurant\": name,\n",
    "    \"Price\":price, \n",
    "    \"Rating\":rating\n",
    "}\n",
    "\n",
    "# Create a data frame from the dictionary you created above\n",
    "la_data = pd.DataFrame(la_dict)\n",
    "\n",
    "# Display the count\n",
    "la_data.count()"
   ]
  },
  {
   "cell_type": "code",
   "execution_count": 13,
   "metadata": {},
   "outputs": [
    {
     "name": "stdout",
     "output_type": "stream",
     "text": [
      "https://api.yelp.com/v3/businesses/VpAqdsRiA4HvlGHzH0toLKhZZSQL2An4bkyl1sK6g2Hn-KScAF1xxAKb3wkFfxrioeKYvFRY5RtMBeEt3hngOhFIQTvPOgzrotLLzkAGAk6X3GtlVSxIL31Ov5NmXXYx\n"
     ]
    }
   ],
   "source": [
    "print(url)"
   ]
  },
  {
   "cell_type": "code",
   "execution_count": null,
   "metadata": {},
   "outputs": [],
   "source": []
  }
 ],
 "metadata": {
  "kernelspec": {
   "display_name": "Python 3",
   "language": "python",
   "name": "python3"
  },
  "language_info": {
   "codemirror_mode": {
    "name": "ipython",
    "version": 3
   },
   "file_extension": ".py",
   "mimetype": "text/x-python",
   "name": "python",
   "nbconvert_exporter": "python",
   "pygments_lexer": "ipython3",
   "version": "3.6.8"
  }
 },
 "nbformat": 4,
 "nbformat_minor": 2
}
