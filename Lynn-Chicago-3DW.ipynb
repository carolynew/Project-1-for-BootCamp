{
 "cells": [
  {
   "cell_type": "code",
   "execution_count": null,
   "metadata": {},
   "outputs": [],
   "source": [
    "import csv\n",
    "import matplotlib.pyplot as plt \n",
    "import requests\n",
    "import json\n",
    "import pandas as pd \n",
    "from config import api_key\n",
    "from yelpapi import YelpAPI\n",
    "import argparse\n",
    "\n",
    "from pprint import pprint\n",
    "\n",
    "argparser = argparse.ArgumentParser(description='Example Yelp queries using yelpapi. Visit https://www.yelp.com/developers/v3/manage_app to get the necessary API keys.')\n",
    "argparser.add_argument(api_key, type=str, help='Yelp Fusion API Key')"
   ]
  },
  {
   "cell_type": "code",
   "execution_count": null,
   "metadata": {},
   "outputs": [],
   "source": [
    "headers = {'Authorization': 'Bearer %s' % api_key}"
   ]
  },
  {
   "cell_type": "code",
   "execution_count": null,
   "metadata": {},
   "outputs": [],
   "source": [
    "yelp_api = YelpAPI(api_key)\n",
    "#search yelp library for \"Mexican restaurants\"\n",
    "\n",
    "\n",
    "search_results = yelp_api.search_query(term='mexican', location='miami, fl', sort_by='rating', limit=50)\n",
    "pprint (search_results)"
   ]
  },
  {
   "cell_type": "code",
   "execution_count": null,
   "metadata": {},
   "outputs": [],
   "source": [
    "yelp_api = YelpAPI(api_key)\n",
    "#search yelp library for \"Mexican restaurants\"\n",
    "\n",
    "\n",
    "search_results = yelp_api.search_query(term='mexican', location='miami, fl', sort_by='rating', limit=50)\n",
    "#pprint (search_results)\n",
    "df = pd.DataFrame(search_results['businesses'])\n",
    "df.to_csv('Miami_Mexican_Restaurants.csv')\n",
    "df.head()"
   ]
  },
  {
   "cell_type": "code",
   "execution_count": null,
   "metadata": {},
   "outputs": [],
   "source": [
    "print('***** 5 best rated Mexican places in Miami,FL *****\\n')\n",
    "response = yelp_api.search_query(term='mexican', location='miami, fl', limit=5, sort_by='review_count')\n",
    "#pprint(response)\n",
    "print('\\n-------------------------------------------------------------------------\\n')\n",
    "\n",
    "pd.DataFrame(response['businesses'])\n",
    "df.head()"
   ]
  },
  {
   "cell_type": "code",
   "execution_count": null,
   "metadata": {},
   "outputs": [],
   "source": [
    "print('***** 5 best rated places in Miami,FL by Review Count*****\\n')\n",
    "response = yelp_api.search_query(term='italian', location='miami, fl', limit=5, sort_by='review_count')\n",
    "#pprint(response)\n",
    "mexican_data = yelp_api.search_query(term='mexican', location='miami, fl', attributes='restaurant')\n",
    "italian_data = yelp_api.search_query(term='italian', location='miami, fl', attributes='restaurant')\n",
    "greek_data = yelp_api.search_query(term='greek', location='miami, fl', attributes='restaurant')\n",
    "indian_data = yelp_api.search_query(term='indian', location='miami, fl', attributes='restaurant')\n",
    "japanese_data = yelp_api.search_query(term='japanese', location='miami, fl', attributes='restaurant')\n",
    "\n",
    "print(mexican_data['total'])\n",
    "print(italian_data['total'])\n",
    "print(greek_data['total'])\n",
    "print(indian_data['total'])\n",
    "print(japanese_data['total'])"
   ]
  },
  {
   "cell_type": "code",
   "execution_count": null,
   "metadata": {},
   "outputs": [],
   "source": [
    "miami_dict = {\n",
    "    \"Mexican\": mexican_data,\n",
    "    \"Italian\":italian_data, \n",
    "    \"Greek\":greek_data,\n",
    "    \"Indian\":indian_data, \n",
    "    \"Japanese\": japanese_data,\n",
    "}\n",
    "\n",
    "# Create a data frame from the dictionary you created above\n",
    "miami_data = pd.DataFrame(miami_dict)\n",
    "\n",
    "# Display the count\n",
    "miami_data.head()"
   ]
  },
  {
   "cell_type": "code",
   "execution_count": null,
   "metadata": {},
   "outputs": [],
   "source": [
    "miami_data.drop(['businesses','region'], inplace=True)\n",
    "miami_data"
   ]
  },
  {
   "cell_type": "code",
   "execution_count": null,
   "metadata": {},
   "outputs": [],
   "source": [
    "print('***** 5 best rated Indian places in Miami,FL *****\\n')\n",
    "response = yelp_api.search_query(term='indian', location='miami, fl', limit=5, sort_by='review_count')\n",
    "pprint(response)\n",
    "print('\\n-------------------------------------------------------------------------\\n')"
   ]
  },
  {
   "cell_type": "code",
   "execution_count": null,
   "metadata": {},
   "outputs": [],
   "source": [
    "print('***** 5 best rated Japanese places in Miami,FL *****\\n')\n",
    "response = yelp_api.search_query(term='japanese', location='miami, fl', limit=5, sort_by='review_count')\n",
    "pprint(response)\n",
    "print('\\n-------------------------------------------------------------------------\\n')"
   ]
  },
  {
   "cell_type": "code",
   "execution_count": null,
   "metadata": {},
   "outputs": [],
   "source": [
    "print('***** 5 best rated Greek places in Miami,FL *****\\n')\n",
    "response = yelp_api.search_query(term='greek', location='miami, fl', limit=5, sort_by='review_count')\n",
    "pprint(response)\n",
    "print('\\n-------------------------------------------------------------------------\\n')"
   ]
  },
  {
   "cell_type": "code",
   "execution_count": null,
   "metadata": {},
   "outputs": [],
   "source": [
    "#restaurants supporting delivery\n",
    "print(\"***** businesses in Miami supporting delivery transactions *****\\n{}\\n\".format(\"yelp_api.transaction_search_\"\n",
    "                                                                                       \"query(transaction_type=\"\n",
    "                                                                                       \"'delivery', location='miami, \"\n",
    "                                                                                       \"fl')\"))\n",
    "response = yelp_api.transaction_search_query(transaction_type='delivery', location='miami, fl')\n",
    "pprint(response)\n",
    "print('\\n-------------------------------------------------------------------------\\n')"
   ]
  },
  {
   "cell_type": "code",
   "execution_count": null,
   "metadata": {},
   "outputs": [],
   "source": []
  }
 ],
 "metadata": {
  "kernelspec": {
   "display_name": "Python 3",
   "language": "python",
   "name": "python3"
  },
  "language_info": {
   "codemirror_mode": {
    "name": "ipython",
    "version": 3
   },
   "file_extension": ".py",
   "mimetype": "text/x-python",
   "name": "python",
   "nbconvert_exporter": "python",
   "pygments_lexer": "ipython3",
   "version": "3.6.8"
  }
 },
 "nbformat": 4,
 "nbformat_minor": 2
}
